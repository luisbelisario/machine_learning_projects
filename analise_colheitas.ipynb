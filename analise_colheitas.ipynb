{
  "nbformat": 4,
  "nbformat_minor": 0,
  "metadata": {
    "colab": {
      "name": "analise_colheitas.ipynb",
      "provenance": [],
      "collapsed_sections": [
        "9bfiXqK3WBC4"
      ],
      "authorship_tag": "ABX9TyOJg3CpzgWjwKB77w3KZgPk",
      "include_colab_link": true
    },
    "kernelspec": {
      "name": "python3",
      "display_name": "Python 3"
    }
  },
  "cells": [
    {
      "cell_type": "markdown",
      "metadata": {
        "id": "view-in-github",
        "colab_type": "text"
      },
      "source": [
        "<a href=\"https://colab.research.google.com/github/luisbelisario/machine_learning_projects/blob/main/analise_colheitas.ipynb\" target=\"_parent\"><img src=\"https://colab.research.google.com/assets/colab-badge.svg\" alt=\"Open In Colab\"/></a>"
      ]
    },
    {
      "cell_type": "code",
      "metadata": {
        "id": "j10eFf7d6tJh"
      },
      "source": [
        "import numpy as np\n",
        "import pandas as pd\n",
        "import seaborn as sns\n",
        "import warnings\n",
        "warnings.filterwarnings('ignore')"
      ],
      "execution_count": null,
      "outputs": []
    },
    {
      "cell_type": "code",
      "metadata": {
        "colab": {
          "base_uri": "https://localhost:8080/",
          "height": 224
        },
        "id": "JXalSwgA6x0g",
        "outputId": "3c87ceef-b7f0-4a6f-efa8-a2ff82f05fee"
      },
      "source": [
        "df = pd.read_csv('crops.csv')\n",
        "df.head()"
      ],
      "execution_count": null,
      "outputs": [
        {
          "output_type": "execute_result",
          "data": {
            "text/html": [
              "<div>\n",
              "<style scoped>\n",
              "    .dataframe tbody tr th:only-of-type {\n",
              "        vertical-align: middle;\n",
              "    }\n",
              "\n",
              "    .dataframe tbody tr th {\n",
              "        vertical-align: top;\n",
              "    }\n",
              "\n",
              "    .dataframe thead th {\n",
              "        text-align: right;\n",
              "    }\n",
              "</style>\n",
              "<table border=\"1\" class=\"dataframe\">\n",
              "  <thead>\n",
              "    <tr style=\"text-align: right;\">\n",
              "      <th></th>\n",
              "      <th>ID</th>\n",
              "      <th>Estimated_Insects_Count</th>\n",
              "      <th>Crop_Type</th>\n",
              "      <th>Soil_Type</th>\n",
              "      <th>Pesticide_Use_Category</th>\n",
              "      <th>Number_Doses_Week</th>\n",
              "      <th>Number_Weeks_Used</th>\n",
              "      <th>Number_Weeks_Quit</th>\n",
              "      <th>Season</th>\n",
              "      <th>Crop_Damage</th>\n",
              "    </tr>\n",
              "  </thead>\n",
              "  <tbody>\n",
              "    <tr>\n",
              "      <th>0</th>\n",
              "      <td>F00000001</td>\n",
              "      <td>188</td>\n",
              "      <td>1</td>\n",
              "      <td>0</td>\n",
              "      <td>1</td>\n",
              "      <td>0</td>\n",
              "      <td>0.0</td>\n",
              "      <td>0</td>\n",
              "      <td>1</td>\n",
              "      <td>0</td>\n",
              "    </tr>\n",
              "    <tr>\n",
              "      <th>1</th>\n",
              "      <td>F00000003</td>\n",
              "      <td>209</td>\n",
              "      <td>1</td>\n",
              "      <td>0</td>\n",
              "      <td>1</td>\n",
              "      <td>0</td>\n",
              "      <td>0.0</td>\n",
              "      <td>0</td>\n",
              "      <td>2</td>\n",
              "      <td>1</td>\n",
              "    </tr>\n",
              "    <tr>\n",
              "      <th>2</th>\n",
              "      <td>F00000004</td>\n",
              "      <td>257</td>\n",
              "      <td>1</td>\n",
              "      <td>0</td>\n",
              "      <td>1</td>\n",
              "      <td>0</td>\n",
              "      <td>0.0</td>\n",
              "      <td>0</td>\n",
              "      <td>2</td>\n",
              "      <td>1</td>\n",
              "    </tr>\n",
              "    <tr>\n",
              "      <th>3</th>\n",
              "      <td>F00000005</td>\n",
              "      <td>257</td>\n",
              "      <td>1</td>\n",
              "      <td>1</td>\n",
              "      <td>1</td>\n",
              "      <td>0</td>\n",
              "      <td>0.0</td>\n",
              "      <td>0</td>\n",
              "      <td>2</td>\n",
              "      <td>1</td>\n",
              "    </tr>\n",
              "    <tr>\n",
              "      <th>4</th>\n",
              "      <td>F00000006</td>\n",
              "      <td>342</td>\n",
              "      <td>1</td>\n",
              "      <td>0</td>\n",
              "      <td>1</td>\n",
              "      <td>0</td>\n",
              "      <td>0.0</td>\n",
              "      <td>0</td>\n",
              "      <td>2</td>\n",
              "      <td>1</td>\n",
              "    </tr>\n",
              "  </tbody>\n",
              "</table>\n",
              "</div>"
            ],
            "text/plain": [
              "          ID  Estimated_Insects_Count  ...  Season  Crop_Damage\n",
              "0  F00000001                      188  ...       1            0\n",
              "1  F00000003                      209  ...       2            1\n",
              "2  F00000004                      257  ...       2            1\n",
              "3  F00000005                      257  ...       2            1\n",
              "4  F00000006                      342  ...       2            1\n",
              "\n",
              "[5 rows x 10 columns]"
            ]
          },
          "metadata": {
            "tags": []
          },
          "execution_count": 2
        }
      ]
    },
    {
      "cell_type": "code",
      "metadata": {
        "colab": {
          "base_uri": "https://localhost:8080/",
          "height": 224
        },
        "id": "8F31_4AQ8xk9",
        "outputId": "31e21817-52dd-48b1-cc54-53156666464e"
      },
      "source": [
        "df_copy = df.copy()\n",
        "df_copy.head()"
      ],
      "execution_count": null,
      "outputs": [
        {
          "output_type": "execute_result",
          "data": {
            "text/html": [
              "<div>\n",
              "<style scoped>\n",
              "    .dataframe tbody tr th:only-of-type {\n",
              "        vertical-align: middle;\n",
              "    }\n",
              "\n",
              "    .dataframe tbody tr th {\n",
              "        vertical-align: top;\n",
              "    }\n",
              "\n",
              "    .dataframe thead th {\n",
              "        text-align: right;\n",
              "    }\n",
              "</style>\n",
              "<table border=\"1\" class=\"dataframe\">\n",
              "  <thead>\n",
              "    <tr style=\"text-align: right;\">\n",
              "      <th></th>\n",
              "      <th>ID</th>\n",
              "      <th>Estimated_Insects_Count</th>\n",
              "      <th>Crop_Type</th>\n",
              "      <th>Soil_Type</th>\n",
              "      <th>Pesticide_Use_Category</th>\n",
              "      <th>Number_Doses_Week</th>\n",
              "      <th>Number_Weeks_Used</th>\n",
              "      <th>Number_Weeks_Quit</th>\n",
              "      <th>Season</th>\n",
              "      <th>Crop_Damage</th>\n",
              "    </tr>\n",
              "  </thead>\n",
              "  <tbody>\n",
              "    <tr>\n",
              "      <th>0</th>\n",
              "      <td>F00000001</td>\n",
              "      <td>188</td>\n",
              "      <td>1</td>\n",
              "      <td>0</td>\n",
              "      <td>1</td>\n",
              "      <td>0</td>\n",
              "      <td>0.0</td>\n",
              "      <td>0</td>\n",
              "      <td>1</td>\n",
              "      <td>0</td>\n",
              "    </tr>\n",
              "    <tr>\n",
              "      <th>1</th>\n",
              "      <td>F00000003</td>\n",
              "      <td>209</td>\n",
              "      <td>1</td>\n",
              "      <td>0</td>\n",
              "      <td>1</td>\n",
              "      <td>0</td>\n",
              "      <td>0.0</td>\n",
              "      <td>0</td>\n",
              "      <td>2</td>\n",
              "      <td>1</td>\n",
              "    </tr>\n",
              "    <tr>\n",
              "      <th>2</th>\n",
              "      <td>F00000004</td>\n",
              "      <td>257</td>\n",
              "      <td>1</td>\n",
              "      <td>0</td>\n",
              "      <td>1</td>\n",
              "      <td>0</td>\n",
              "      <td>0.0</td>\n",
              "      <td>0</td>\n",
              "      <td>2</td>\n",
              "      <td>1</td>\n",
              "    </tr>\n",
              "    <tr>\n",
              "      <th>3</th>\n",
              "      <td>F00000005</td>\n",
              "      <td>257</td>\n",
              "      <td>1</td>\n",
              "      <td>1</td>\n",
              "      <td>1</td>\n",
              "      <td>0</td>\n",
              "      <td>0.0</td>\n",
              "      <td>0</td>\n",
              "      <td>2</td>\n",
              "      <td>1</td>\n",
              "    </tr>\n",
              "    <tr>\n",
              "      <th>4</th>\n",
              "      <td>F00000006</td>\n",
              "      <td>342</td>\n",
              "      <td>1</td>\n",
              "      <td>0</td>\n",
              "      <td>1</td>\n",
              "      <td>0</td>\n",
              "      <td>0.0</td>\n",
              "      <td>0</td>\n",
              "      <td>2</td>\n",
              "      <td>1</td>\n",
              "    </tr>\n",
              "  </tbody>\n",
              "</table>\n",
              "</div>"
            ],
            "text/plain": [
              "          ID  Estimated_Insects_Count  ...  Season  Crop_Damage\n",
              "0  F00000001                      188  ...       1            0\n",
              "1  F00000003                      209  ...       2            1\n",
              "2  F00000004                      257  ...       2            1\n",
              "3  F00000005                      257  ...       2            1\n",
              "4  F00000006                      342  ...       2            1\n",
              "\n",
              "[5 rows x 10 columns]"
            ]
          },
          "metadata": {
            "tags": []
          },
          "execution_count": 3
        }
      ]
    },
    {
      "cell_type": "code",
      "metadata": {
        "colab": {
          "base_uri": "https://localhost:8080/",
          "height": 224
        },
        "id": "1dg8654k9BIz",
        "outputId": "1ab422ad-3dc2-4014-c5e9-90d43fb0554f"
      },
      "source": [
        "df_copy.drop(labels=['ID'], axis=1, inplace=True)\n",
        "df_copy.head()"
      ],
      "execution_count": null,
      "outputs": [
        {
          "output_type": "execute_result",
          "data": {
            "text/html": [
              "<div>\n",
              "<style scoped>\n",
              "    .dataframe tbody tr th:only-of-type {\n",
              "        vertical-align: middle;\n",
              "    }\n",
              "\n",
              "    .dataframe tbody tr th {\n",
              "        vertical-align: top;\n",
              "    }\n",
              "\n",
              "    .dataframe thead th {\n",
              "        text-align: right;\n",
              "    }\n",
              "</style>\n",
              "<table border=\"1\" class=\"dataframe\">\n",
              "  <thead>\n",
              "    <tr style=\"text-align: right;\">\n",
              "      <th></th>\n",
              "      <th>Estimated_Insects_Count</th>\n",
              "      <th>Crop_Type</th>\n",
              "      <th>Soil_Type</th>\n",
              "      <th>Pesticide_Use_Category</th>\n",
              "      <th>Number_Doses_Week</th>\n",
              "      <th>Number_Weeks_Used</th>\n",
              "      <th>Number_Weeks_Quit</th>\n",
              "      <th>Season</th>\n",
              "      <th>Crop_Damage</th>\n",
              "    </tr>\n",
              "  </thead>\n",
              "  <tbody>\n",
              "    <tr>\n",
              "      <th>0</th>\n",
              "      <td>188</td>\n",
              "      <td>1</td>\n",
              "      <td>0</td>\n",
              "      <td>1</td>\n",
              "      <td>0</td>\n",
              "      <td>0.0</td>\n",
              "      <td>0</td>\n",
              "      <td>1</td>\n",
              "      <td>0</td>\n",
              "    </tr>\n",
              "    <tr>\n",
              "      <th>1</th>\n",
              "      <td>209</td>\n",
              "      <td>1</td>\n",
              "      <td>0</td>\n",
              "      <td>1</td>\n",
              "      <td>0</td>\n",
              "      <td>0.0</td>\n",
              "      <td>0</td>\n",
              "      <td>2</td>\n",
              "      <td>1</td>\n",
              "    </tr>\n",
              "    <tr>\n",
              "      <th>2</th>\n",
              "      <td>257</td>\n",
              "      <td>1</td>\n",
              "      <td>0</td>\n",
              "      <td>1</td>\n",
              "      <td>0</td>\n",
              "      <td>0.0</td>\n",
              "      <td>0</td>\n",
              "      <td>2</td>\n",
              "      <td>1</td>\n",
              "    </tr>\n",
              "    <tr>\n",
              "      <th>3</th>\n",
              "      <td>257</td>\n",
              "      <td>1</td>\n",
              "      <td>1</td>\n",
              "      <td>1</td>\n",
              "      <td>0</td>\n",
              "      <td>0.0</td>\n",
              "      <td>0</td>\n",
              "      <td>2</td>\n",
              "      <td>1</td>\n",
              "    </tr>\n",
              "    <tr>\n",
              "      <th>4</th>\n",
              "      <td>342</td>\n",
              "      <td>1</td>\n",
              "      <td>0</td>\n",
              "      <td>1</td>\n",
              "      <td>0</td>\n",
              "      <td>0.0</td>\n",
              "      <td>0</td>\n",
              "      <td>2</td>\n",
              "      <td>1</td>\n",
              "    </tr>\n",
              "  </tbody>\n",
              "</table>\n",
              "</div>"
            ],
            "text/plain": [
              "   Estimated_Insects_Count  Crop_Type  ...  Season  Crop_Damage\n",
              "0                      188          1  ...       1            0\n",
              "1                      209          1  ...       2            1\n",
              "2                      257          1  ...       2            1\n",
              "3                      257          1  ...       2            1\n",
              "4                      342          1  ...       2            1\n",
              "\n",
              "[5 rows x 9 columns]"
            ]
          },
          "metadata": {
            "tags": []
          },
          "execution_count": 4
        }
      ]
    },
    {
      "cell_type": "code",
      "metadata": {
        "colab": {
          "base_uri": "https://localhost:8080/",
          "height": 224
        },
        "id": "TsT5LgOS9Hvx",
        "outputId": "fd356e01-a317-4975-c8da-df61e4310c7f"
      },
      "source": [
        "df_copy.rename({'Estimated_Insects_Count': 'numero_insetos',\n",
        "                'Crop_Type': 'tipo_plantacao',\n",
        "                'Soil_Type': 'tipo_solo',\n",
        "                'Pesticide_Use_Category': 'tipo_pesticida',\n",
        "                'Number_Doses_Week': 'qtd_doses_pesticida_semana',\n",
        "                'Number_Weeks_Used': 'qtd_semanas_uso_pesticida',\n",
        "                'Number_Weeks_Quit': 'qtd_semanas_quit',\n",
        "                'Season': 'epoca_ano',\n",
        "                'Crop_Damage': 'dano_plantacao'}, axis=1, inplace=True)\n",
        "df_copy.head()"
      ],
      "execution_count": null,
      "outputs": [
        {
          "output_type": "execute_result",
          "data": {
            "text/html": [
              "<div>\n",
              "<style scoped>\n",
              "    .dataframe tbody tr th:only-of-type {\n",
              "        vertical-align: middle;\n",
              "    }\n",
              "\n",
              "    .dataframe tbody tr th {\n",
              "        vertical-align: top;\n",
              "    }\n",
              "\n",
              "    .dataframe thead th {\n",
              "        text-align: right;\n",
              "    }\n",
              "</style>\n",
              "<table border=\"1\" class=\"dataframe\">\n",
              "  <thead>\n",
              "    <tr style=\"text-align: right;\">\n",
              "      <th></th>\n",
              "      <th>numero_insetos</th>\n",
              "      <th>tipo_plantacao</th>\n",
              "      <th>tipo_solo</th>\n",
              "      <th>tipo_pesticida</th>\n",
              "      <th>qtd_doses_pesticida_semana</th>\n",
              "      <th>qtd_semanas_uso_pesticida</th>\n",
              "      <th>qtd_semanas_quit</th>\n",
              "      <th>epoca_ano</th>\n",
              "      <th>dano_plantacao</th>\n",
              "    </tr>\n",
              "  </thead>\n",
              "  <tbody>\n",
              "    <tr>\n",
              "      <th>0</th>\n",
              "      <td>188</td>\n",
              "      <td>1</td>\n",
              "      <td>0</td>\n",
              "      <td>1</td>\n",
              "      <td>0</td>\n",
              "      <td>0.0</td>\n",
              "      <td>0</td>\n",
              "      <td>1</td>\n",
              "      <td>0</td>\n",
              "    </tr>\n",
              "    <tr>\n",
              "      <th>1</th>\n",
              "      <td>209</td>\n",
              "      <td>1</td>\n",
              "      <td>0</td>\n",
              "      <td>1</td>\n",
              "      <td>0</td>\n",
              "      <td>0.0</td>\n",
              "      <td>0</td>\n",
              "      <td>2</td>\n",
              "      <td>1</td>\n",
              "    </tr>\n",
              "    <tr>\n",
              "      <th>2</th>\n",
              "      <td>257</td>\n",
              "      <td>1</td>\n",
              "      <td>0</td>\n",
              "      <td>1</td>\n",
              "      <td>0</td>\n",
              "      <td>0.0</td>\n",
              "      <td>0</td>\n",
              "      <td>2</td>\n",
              "      <td>1</td>\n",
              "    </tr>\n",
              "    <tr>\n",
              "      <th>3</th>\n",
              "      <td>257</td>\n",
              "      <td>1</td>\n",
              "      <td>1</td>\n",
              "      <td>1</td>\n",
              "      <td>0</td>\n",
              "      <td>0.0</td>\n",
              "      <td>0</td>\n",
              "      <td>2</td>\n",
              "      <td>1</td>\n",
              "    </tr>\n",
              "    <tr>\n",
              "      <th>4</th>\n",
              "      <td>342</td>\n",
              "      <td>1</td>\n",
              "      <td>0</td>\n",
              "      <td>1</td>\n",
              "      <td>0</td>\n",
              "      <td>0.0</td>\n",
              "      <td>0</td>\n",
              "      <td>2</td>\n",
              "      <td>1</td>\n",
              "    </tr>\n",
              "  </tbody>\n",
              "</table>\n",
              "</div>"
            ],
            "text/plain": [
              "   numero_insetos  tipo_plantacao  ...  epoca_ano  dano_plantacao\n",
              "0             188               1  ...          1               0\n",
              "1             209               1  ...          2               1\n",
              "2             257               1  ...          2               1\n",
              "3             257               1  ...          2               1\n",
              "4             342               1  ...          2               1\n",
              "\n",
              "[5 rows x 9 columns]"
            ]
          },
          "metadata": {
            "tags": []
          },
          "execution_count": 5
        }
      ]
    },
    {
      "cell_type": "code",
      "metadata": {
        "colab": {
          "base_uri": "https://localhost:8080/"
        },
        "id": "RjFucSxEFVF2",
        "outputId": "c9fe4f69-07dd-45c8-ea6f-1e6344068fef"
      },
      "source": [
        "df_copy.info()\n",
        "# a coluna qtd_semanas_uso_pesticida tem muitos valores nulos"
      ],
      "execution_count": null,
      "outputs": [
        {
          "output_type": "stream",
          "text": [
            "<class 'pandas.core.frame.DataFrame'>\n",
            "RangeIndex: 88858 entries, 0 to 88857\n",
            "Data columns (total 9 columns):\n",
            " #   Column                      Non-Null Count  Dtype  \n",
            "---  ------                      --------------  -----  \n",
            " 0   numero_insetos              88858 non-null  int64  \n",
            " 1   tipo_plantacao              88858 non-null  int64  \n",
            " 2   tipo_solo                   88858 non-null  int64  \n",
            " 3   tipo_pesticida              88858 non-null  int64  \n",
            " 4   qtd_doses_pesticida_semana  88858 non-null  int64  \n",
            " 5   qtd_semanas_uso_pesticida   79858 non-null  float64\n",
            " 6   qtd_semanas_quit            88858 non-null  int64  \n",
            " 7   epoca_ano                   88858 non-null  int64  \n",
            " 8   dano_plantacao              88858 non-null  int64  \n",
            "dtypes: float64(1), int64(8)\n",
            "memory usage: 6.1 MB\n"
          ],
          "name": "stdout"
        }
      ]
    },
    {
      "cell_type": "code",
      "metadata": {
        "colab": {
          "base_uri": "https://localhost:8080/"
        },
        "id": "Fv4OOUMJDLJe",
        "outputId": "a536ed6c-f7bf-4502-d632-3842b7a8747d"
      },
      "source": [
        "# Quantidade de plantacoes boa, media e ruim\n",
        "df_copy['dano_plantacao'].value_counts()"
      ],
      "execution_count": null,
      "outputs": [
        {
          "output_type": "execute_result",
          "data": {
            "text/plain": [
              "0    74238\n",
              "1    12307\n",
              "2     2313\n",
              "Name: dano_plantacao, dtype: int64"
            ]
          },
          "metadata": {
            "tags": []
          },
          "execution_count": 7
        }
      ]
    },
    {
      "cell_type": "code",
      "metadata": {
        "colab": {
          "base_uri": "https://localhost:8080/",
          "height": 280
        },
        "id": "KbS3whkOQyWq",
        "outputId": "8915eb06-53b4-46fc-9bb0-cf339a3facca"
      },
      "source": [
        "sns.countplot(df_copy['tipo_plantacao']);"
      ],
      "execution_count": null,
      "outputs": [
        {
          "output_type": "display_data",
          "data": {
            "image/png": "[encoded data removed]",
            "text/plain": [
              "<Figure size 432x288 with 1 Axes>"
            ]
          },
          "metadata": {
            "tags": [],
            "needs_background": "light"
          }
        }
      ]
    },
    {
      "cell_type": "code",
      "metadata": {
        "colab": {
          "base_uri": "https://localhost:8080/",
          "height": 282
        },
        "id": "lvPl4-EVQ_sx",
        "outputId": "20c3bbe8-9149-41b3-87b3-121a0b9c2a09"
      },
      "source": [
        "sns.countplot(df_copy['tipo_solo']);"
      ],
      "execution_count": null,
      "outputs": [
        {
          "output_type": "display_data",
          "data": {
            "image/png": "[encoded data removed]",
            "text/plain": [
              "<Figure size 432x288 with 1 Axes>"
            ]
          },
          "metadata": {
            "tags": [],
            "needs_background": "light"
          }
        }
      ]
    },
    {
      "cell_type": "code",
      "metadata": {
        "colab": {
          "base_uri": "https://localhost:8080/",
          "height": 280
        },
        "id": "rW7lKmd1EeKf",
        "outputId": "1c0991a4-53f8-4310-83f1-242f471b019c"
      },
      "source": [
        "sns.countplot(df_copy['tipo_pesticida']);"
      ],
      "execution_count": null,
      "outputs": [
        {
          "output_type": "display_data",
          "data": {
            "image/png": "[encoded data removed]",
            "text/plain": [
              "<Figure size 432x288 with 1 Axes>"
            ]
          },
          "metadata": {
            "tags": [],
            "needs_background": "light"
          }
        }
      ]
    },
    {
      "cell_type": "code",
      "metadata": {
        "colab": {
          "base_uri": "https://localhost:8080/",
          "height": 280
        },
        "id": "W-B9Bh8aB9wE",
        "outputId": "6e832904-1d5f-4525-fe90-d614fcb7b1b2"
      },
      "source": [
        "sns.countplot(df_copy['dano_plantacao']);\n",
        "# 0 - Boa\n",
        "# 1 - Média\n",
        "# 2 - Ruim"
      ],
      "execution_count": null,
      "outputs": [
        {
          "output_type": "display_data",
          "data": {
            "image/png": "[encoded data removed]",
            "text/plain": [
              "<Figure size 432x288 with 1 Axes>"
            ]
          },
          "metadata": {
            "tags": [],
            "needs_background": "light"
          }
        }
      ]
    },
    {
      "cell_type": "code",
      "metadata": {
        "colab": {
          "base_uri": "https://localhost:8080/",
          "height": 279
        },
        "id": "XVPVo-h9D38o",
        "outputId": "afe5e712-2b38-4348-8cf7-754bd800b56a"
      },
      "source": [
        "sns.countplot(df_copy['epoca_ano']);\n",
        "# 1 - Janeiro a Abril\n",
        "# 2 - Maio a Agosto\n",
        "# 3 - Setembro a Dezembro"
      ],
      "execution_count": null,
      "outputs": [
        {
          "output_type": "display_data",
          "data": {
            "image/png": "[encoded data removed]",
            "text/plain": [
              "<Figure size 432x288 with 1 Axes>"
            ]
          },
          "metadata": {
            "tags": [],
            "needs_background": "light"
          }
        }
      ]
    },
    {
      "cell_type": "code",
      "metadata": {
        "colab": {
          "base_uri": "https://localhost:8080/"
        },
        "id": "t67-s_rpFCGw",
        "outputId": "6704e416-b4e6-4c2f-97db-cd1435327f3b"
      },
      "source": [
        "df_copy.isnull().sum()\n",
        "# a coluna qtd_semanas_uso_pesticida tem 9000 valores nulos"
      ],
      "execution_count": null,
      "outputs": [
        {
          "output_type": "execute_result",
          "data": {
            "text/plain": [
              "numero_insetos                   0\n",
              "tipo_plantacao                   0\n",
              "tipo_solo                        0\n",
              "tipo_pesticida                   0\n",
              "qtd_doses_pesticida_semana       0\n",
              "qtd_semanas_uso_pesticida     9000\n",
              "qtd_semanas_quit                 0\n",
              "epoca_ano                        0\n",
              "dano_plantacao                   0\n",
              "dtype: int64"
            ]
          },
          "metadata": {
            "tags": []
          },
          "execution_count": 13
        }
      ]
    },
    {
      "cell_type": "code",
      "metadata": {
        "id": "LgSomB_4Gm-k"
      },
      "source": [
        "# Excluindo valores nulos\n",
        "df_copy.dropna(inplace=True)"
      ],
      "execution_count": null,
      "outputs": []
    },
    {
      "cell_type": "code",
      "metadata": {
        "colab": {
          "base_uri": "https://localhost:8080/"
        },
        "id": "oSg0iQIwGtz8",
        "outputId": "3a603a56-b293-4eb2-8659-42e291c9c357"
      },
      "source": [
        "df_copy.isnull().sum()"
      ],
      "execution_count": null,
      "outputs": [
        {
          "output_type": "execute_result",
          "data": {
            "text/plain": [
              "numero_insetos                0\n",
              "tipo_plantacao                0\n",
              "tipo_solo                     0\n",
              "tipo_pesticida                0\n",
              "qtd_doses_pesticida_semana    0\n",
              "qtd_semanas_uso_pesticida     0\n",
              "qtd_semanas_quit              0\n",
              "epoca_ano                     0\n",
              "dano_plantacao                0\n",
              "dtype: int64"
            ]
          },
          "metadata": {
            "tags": []
          },
          "execution_count": 15
        }
      ]
    },
    {
      "cell_type": "code",
      "metadata": {
        "colab": {
          "base_uri": "https://localhost:8080/"
        },
        "id": "xOnzjgtsGxES",
        "outputId": "498d5fcb-cd18-437f-854e-ba541ce6c33d"
      },
      "source": [
        "df_copy.duplicated().sum()"
      ],
      "execution_count": null,
      "outputs": [
        {
          "output_type": "execute_result",
          "data": {
            "text/plain": [
              "623"
            ]
          },
          "metadata": {
            "tags": []
          },
          "execution_count": 16
        }
      ]
    },
    {
      "cell_type": "code",
      "metadata": {
        "id": "qbJLecz_G2E0"
      },
      "source": [
        "# Excluindo valores duplicados\n",
        "df_copy.drop_duplicates(inplace=True)"
      ],
      "execution_count": null,
      "outputs": []
    },
    {
      "cell_type": "code",
      "metadata": {
        "colab": {
          "base_uri": "https://localhost:8080/"
        },
        "id": "SSeYiNUfG5us",
        "outputId": "efac2b92-edcd-4804-d3ed-20f4e6cb7155"
      },
      "source": [
        "df_copy.duplicated().sum()"
      ],
      "execution_count": null,
      "outputs": [
        {
          "output_type": "execute_result",
          "data": {
            "text/plain": [
              "0"
            ]
          },
          "metadata": {
            "tags": []
          },
          "execution_count": 18
        }
      ]
    },
    {
      "cell_type": "code",
      "metadata": {
        "colab": {
          "base_uri": "https://localhost:8080/",
          "height": 280
        },
        "id": "sC57QlDvHVQt",
        "outputId": "d0d8c628-80ae-48ec-8098-51092bc54cc9"
      },
      "source": [
        "sns.boxplot(x=df_copy['numero_insetos']);\n",
        "# o numero medio de insetos ficou na casa dos 1200\n",
        "# retirar os outliers melhora o desempenho do algoritmo"
      ],
      "execution_count": null,
      "outputs": [
        {
          "output_type": "display_data",
          "data": {
            "image/png": "[encoded data removed]",
            "text/plain": [
              "<Figure size 432x288 with 1 Axes>"
            ]
          },
          "metadata": {
            "tags": [],
            "needs_background": "light"
          }
        }
      ]
    },
    {
      "cell_type": "code",
      "metadata": {
        "id": "LIx6SkmBInNR"
      },
      "source": [
        "# Removendo os outliers\n",
        "q_menor = df_copy['numero_insetos'].quantile(0.01)\n",
        "q_maior = df_copy['numero_insetos'].quantile(0.99)\n",
        "df_copy = df_copy[(df_copy['numero_insetos'] < q_maior) & (df_copy['numero_insetos'] > q_menor)]"
      ],
      "execution_count": null,
      "outputs": []
    },
    {
      "cell_type": "code",
      "metadata": {
        "colab": {
          "base_uri": "https://localhost:8080/",
          "height": 280
        },
        "id": "h93jwXibIoXO",
        "outputId": "c7a89dd6-e643-44cf-9e2d-9b5daedf91ab"
      },
      "source": [
        "# outliers removidos\n",
        "sns.boxplot(x=df_copy['numero_insetos']);"
      ],
      "execution_count": null,
      "outputs": [
        {
          "output_type": "display_data",
          "data": {
            "image/png": "[encoded data removed]",
            "text/plain": [
              "<Figure size 432x288 with 1 Axes>"
            ]
          },
          "metadata": {
            "tags": [],
            "needs_background": "light"
          }
        }
      ]
    },
    {
      "cell_type": "code",
      "metadata": {
        "colab": {
          "base_uri": "https://localhost:8080/",
          "height": 224
        },
        "id": "5ddTRnegTqlM",
        "outputId": "9d444745-5984-4ca2-d1b4-e55c1d3ab4ba"
      },
      "source": [
        "df_copy.head()"
      ],
      "execution_count": null,
      "outputs": [
        {
          "output_type": "execute_result",
          "data": {
            "text/html": [
              "<div>\n",
              "<style scoped>\n",
              "    .dataframe tbody tr th:only-of-type {\n",
              "        vertical-align: middle;\n",
              "    }\n",
              "\n",
              "    .dataframe tbody tr th {\n",
              "        vertical-align: top;\n",
              "    }\n",
              "\n",
              "    .dataframe thead th {\n",
              "        text-align: right;\n",
              "    }\n",
              "</style>\n",
              "<table border=\"1\" class=\"dataframe\">\n",
              "  <thead>\n",
              "    <tr style=\"text-align: right;\">\n",
              "      <th></th>\n",
              "      <th>numero_insetos</th>\n",
              "      <th>tipo_plantacao</th>\n",
              "      <th>tipo_solo</th>\n",
              "      <th>tipo_pesticida</th>\n",
              "      <th>qtd_doses_pesticida_semana</th>\n",
              "      <th>qtd_semanas_uso_pesticida</th>\n",
              "      <th>qtd_semanas_quit</th>\n",
              "      <th>epoca_ano</th>\n",
              "      <th>dano_plantacao</th>\n",
              "    </tr>\n",
              "  </thead>\n",
              "  <tbody>\n",
              "    <tr>\n",
              "      <th>1</th>\n",
              "      <td>209</td>\n",
              "      <td>1</td>\n",
              "      <td>0</td>\n",
              "      <td>1</td>\n",
              "      <td>0</td>\n",
              "      <td>0.0</td>\n",
              "      <td>0</td>\n",
              "      <td>2</td>\n",
              "      <td>1</td>\n",
              "    </tr>\n",
              "    <tr>\n",
              "      <th>2</th>\n",
              "      <td>257</td>\n",
              "      <td>1</td>\n",
              "      <td>0</td>\n",
              "      <td>1</td>\n",
              "      <td>0</td>\n",
              "      <td>0.0</td>\n",
              "      <td>0</td>\n",
              "      <td>2</td>\n",
              "      <td>1</td>\n",
              "    </tr>\n",
              "    <tr>\n",
              "      <th>3</th>\n",
              "      <td>257</td>\n",
              "      <td>1</td>\n",
              "      <td>1</td>\n",
              "      <td>1</td>\n",
              "      <td>0</td>\n",
              "      <td>0.0</td>\n",
              "      <td>0</td>\n",
              "      <td>2</td>\n",
              "      <td>1</td>\n",
              "    </tr>\n",
              "    <tr>\n",
              "      <th>4</th>\n",
              "      <td>342</td>\n",
              "      <td>1</td>\n",
              "      <td>0</td>\n",
              "      <td>1</td>\n",
              "      <td>0</td>\n",
              "      <td>0.0</td>\n",
              "      <td>0</td>\n",
              "      <td>2</td>\n",
              "      <td>1</td>\n",
              "    </tr>\n",
              "    <tr>\n",
              "      <th>7</th>\n",
              "      <td>577</td>\n",
              "      <td>1</td>\n",
              "      <td>0</td>\n",
              "      <td>1</td>\n",
              "      <td>0</td>\n",
              "      <td>0.0</td>\n",
              "      <td>0</td>\n",
              "      <td>1</td>\n",
              "      <td>2</td>\n",
              "    </tr>\n",
              "  </tbody>\n",
              "</table>\n",
              "</div>"
            ],
            "text/plain": [
              "   numero_insetos  tipo_plantacao  ...  epoca_ano  dano_plantacao\n",
              "1             209               1  ...          2               1\n",
              "2             257               1  ...          2               1\n",
              "3             257               1  ...          2               1\n",
              "4             342               1  ...          2               1\n",
              "7             577               1  ...          1               2\n",
              "\n",
              "[5 rows x 9 columns]"
            ]
          },
          "metadata": {
            "tags": []
          },
          "execution_count": 22
        }
      ]
    },
    {
      "cell_type": "code",
      "metadata": {
        "colab": {
          "base_uri": "https://localhost:8080/"
        },
        "id": "rysgLvsaTkRE",
        "outputId": "b32ffe0d-e812-4b41-c8c3-2bc821757dc5"
      },
      "source": [
        "X = df_copy.iloc[:, 0:8].values\n",
        "X.shape"
      ],
      "execution_count": null,
      "outputs": [
        {
          "output_type": "execute_result",
          "data": {
            "text/plain": [
              "(76885, 8)"
            ]
          },
          "metadata": {
            "tags": []
          },
          "execution_count": 23
        }
      ]
    },
    {
      "cell_type": "code",
      "metadata": {
        "colab": {
          "base_uri": "https://localhost:8080/"
        },
        "id": "8detVFyqUAt-",
        "outputId": "ebf561bb-3768-4a7b-a24e-35d88fc9aa16"
      },
      "source": [
        "y = df_copy.iloc[:, 8].values\n",
        "y.shape"
      ],
      "execution_count": null,
      "outputs": [
        {
          "output_type": "execute_result",
          "data": {
            "text/plain": [
              "(76885,)"
            ]
          },
          "metadata": {
            "tags": []
          },
          "execution_count": 24
        }
      ]
    },
    {
      "cell_type": "code",
      "metadata": {
        "id": "iligwO1um5Ro"
      },
      "source": [
        "# Testes com os algoritmos Logistic Regression, Decision Tree e Random Forest\n",
        "from sklearn.model_selection import train_test_split\n",
        "from sklearn.naive_bayes import GaussianNB\n",
        "from sklearn.linear_model import LogisticRegression\n",
        "from sklearn import tree\n",
        "from sklearn.ensemble import RandomForestClassifier\n",
        "from sklearn.metrics import accuracy_score"
      ],
      "execution_count": null,
      "outputs": []
    },
    {
      "cell_type": "code",
      "metadata": {
        "id": "j19PAPAqTEaq"
      },
      "source": [
        "resultados_naive_b = []\n",
        "resultados_logistic_r = []\n",
        "resultados_decision_t = []\n",
        "resultados_random_f = []"
      ],
      "execution_count": null,
      "outputs": []
    },
    {
      "cell_type": "code",
      "metadata": {
        "id": "NKsK72xmTdsa"
      },
      "source": [
        "# Serão feitos 30 testes para cada algoritmo\n",
        "# A cada teste feito o seu accuracy vai ser armazenada na respectva lista do algoritmo\n",
        "# Ao final será obtiada a média da lista de cada algoritmo e essa média será reportada\n",
        "# test_size faz com que os dados sejam divididos em 80% para treino e 20% para teste\n",
        "# o random_state = i faz com que sejam selecionados valores diferentes a cada iteração\n",
        "# stratify faz a divisão proporcional y com base na quantidade de cada valor possível\n",
        "for i in range(5):\n",
        "    X_treino, X_teste, y_treino, y_teste = train_test_split(X, y, test_size=0.2,\n",
        "                                                            stratify=y,\n",
        "                                                            random_state=i)\n",
        "    naive_b = GaussianNB()\n",
        "    naive_b.fit(X_treino, y_treino)\n",
        "    resultados_naive_b.append(accuracy_score(y_teste, naive_b.predict(X_teste)))\n",
        "\n",
        "    logistic_r = LogisticRegression()\n",
        "    logistic_r.fit(X_treino, y_treino)\n",
        "    resultados_logistic_r.append(accuracy_score(y_teste, logistic_r.predict(X_teste)))\n",
        "\n",
        "    decision_t = tree.DecisionTreeClassifier()\n",
        "    decision_t.fit(X_treino, y_treino)\n",
        "    resultados_decision_t.append(accuracy_score(y_teste, decision_t.predict(X_teste)))\n",
        "\n",
        "    random_f = RandomForestClassifier()\n",
        "    random_f.fit(X_treino, y_treino)\n",
        "    resultados_random_f.append(accuracy_score(y_teste, random_f.predict(X_teste)))"
      ],
      "execution_count": null,
      "outputs": []
    },
    {
      "cell_type": "code",
      "metadata": {
        "id": "P7onXPr8Yf-6"
      },
      "source": [
        "resultados_naive_b = np.array(resultados_naive_b)\n",
        "resultados_logistic_r = np.array(resultados_logistic_r)\n",
        "resultados_decision_t = np.array(resultados_decision_t)\n",
        "resultados_random_f = np.array(resultados_random_f)"
      ],
      "execution_count": null,
      "outputs": []
    },
    {
      "cell_type": "code",
      "metadata": {
        "colab": {
          "base_uri": "https://localhost:8080/"
        },
        "id": "VD1849qnYsVb",
        "outputId": "ea0dd6f3-104f-43fa-cc64-c8d2106cb873"
      },
      "source": [
        "# Naive Bayes = 82%\n",
        "# Regressão logistica = 84%\n",
        "# Decision tree = 74%\n",
        "# Random Forest = 82%\n",
        "resultados_naive_b.mean(), resultados_logistic_r.mean(), resultados_decision_t.mean(), resultados_random_f.mean()"
      ],
      "execution_count": null,
      "outputs": [
        {
          "output_type": "execute_result",
          "data": {
            "text/plain": [
              "(0.8259773723128084,\n",
              " 0.8428587428554912,\n",
              " 0.7469272289783442,\n",
              " 0.8246196573186079)"
            ]
          },
          "metadata": {
            "tags": []
          },
          "execution_count": 32
        }
      ]
    },
    {
      "cell_type": "markdown",
      "metadata": {
        "id": "PirfHJ-0ZKm9"
      },
      "source": [
        "Próximos passos:\n",
        "\n",
        "*   One-hot Encoder - criação de variáveis atributos get_dummies()\n",
        "*   Subamostragem e Sobreamostragem\n",
        "*   Seleção de atributos mais eficazes com Qui quadrado\n",
        "*   Utilizar cross validation em vez de train test split\n"
      ]
    },
    {
      "cell_type": "markdown",
      "metadata": {
        "id": "O1x3OS6Dd8ES"
      },
      "source": [
        "## One-hot encoder"
      ]
    },
    {
      "cell_type": "code",
      "metadata": {
        "colab": {
          "base_uri": "https://localhost:8080/",
          "height": 224
        },
        "id": "a_WMxF-ReQ3q",
        "outputId": "eb1413a0-e131-42f4-b09a-6e2377624c0d"
      },
      "source": [
        "df_copy.head()"
      ],
      "execution_count": null,
      "outputs": [
        {
          "output_type": "execute_result",
          "data": {
            "text/html": [
              "<div>\n",
              "<style scoped>\n",
              "    .dataframe tbody tr th:only-of-type {\n",
              "        vertical-align: middle;\n",
              "    }\n",
              "\n",
              "    .dataframe tbody tr th {\n",
              "        vertical-align: top;\n",
              "    }\n",
              "\n",
              "    .dataframe thead th {\n",
              "        text-align: right;\n",
              "    }\n",
              "</style>\n",
              "<table border=\"1\" class=\"dataframe\">\n",
              "  <thead>\n",
              "    <tr style=\"text-align: right;\">\n",
              "      <th></th>\n",
              "      <th>numero_insetos</th>\n",
              "      <th>tipo_plantacao</th>\n",
              "      <th>tipo_solo</th>\n",
              "      <th>tipo_pesticida</th>\n",
              "      <th>qtd_doses_pesticida_semana</th>\n",
              "      <th>qtd_semanas_uso_pesticida</th>\n",
              "      <th>qtd_semanas_quit</th>\n",
              "      <th>epoca_ano</th>\n",
              "      <th>dano_plantacao</th>\n",
              "    </tr>\n",
              "  </thead>\n",
              "  <tbody>\n",
              "    <tr>\n",
              "      <th>1</th>\n",
              "      <td>209</td>\n",
              "      <td>1</td>\n",
              "      <td>0</td>\n",
              "      <td>1</td>\n",
              "      <td>0</td>\n",
              "      <td>0.0</td>\n",
              "      <td>0</td>\n",
              "      <td>2</td>\n",
              "      <td>1</td>\n",
              "    </tr>\n",
              "    <tr>\n",
              "      <th>2</th>\n",
              "      <td>257</td>\n",
              "      <td>1</td>\n",
              "      <td>0</td>\n",
              "      <td>1</td>\n",
              "      <td>0</td>\n",
              "      <td>0.0</td>\n",
              "      <td>0</td>\n",
              "      <td>2</td>\n",
              "      <td>1</td>\n",
              "    </tr>\n",
              "    <tr>\n",
              "      <th>3</th>\n",
              "      <td>257</td>\n",
              "      <td>1</td>\n",
              "      <td>1</td>\n",
              "      <td>1</td>\n",
              "      <td>0</td>\n",
              "      <td>0.0</td>\n",
              "      <td>0</td>\n",
              "      <td>2</td>\n",
              "      <td>1</td>\n",
              "    </tr>\n",
              "    <tr>\n",
              "      <th>4</th>\n",
              "      <td>342</td>\n",
              "      <td>1</td>\n",
              "      <td>0</td>\n",
              "      <td>1</td>\n",
              "      <td>0</td>\n",
              "      <td>0.0</td>\n",
              "      <td>0</td>\n",
              "      <td>2</td>\n",
              "      <td>1</td>\n",
              "    </tr>\n",
              "    <tr>\n",
              "      <th>7</th>\n",
              "      <td>577</td>\n",
              "      <td>1</td>\n",
              "      <td>0</td>\n",
              "      <td>1</td>\n",
              "      <td>0</td>\n",
              "      <td>0.0</td>\n",
              "      <td>0</td>\n",
              "      <td>1</td>\n",
              "      <td>2</td>\n",
              "    </tr>\n",
              "  </tbody>\n",
              "</table>\n",
              "</div>"
            ],
            "text/plain": [
              "   numero_insetos  tipo_plantacao  ...  epoca_ano  dano_plantacao\n",
              "1             209               1  ...          2               1\n",
              "2             257               1  ...          2               1\n",
              "3             257               1  ...          2               1\n",
              "4             342               1  ...          2               1\n",
              "7             577               1  ...          1               2\n",
              "\n",
              "[5 rows x 9 columns]"
            ]
          },
          "metadata": {
            "tags": []
          },
          "execution_count": 70
        }
      ]
    },
    {
      "cell_type": "code",
      "metadata": {
        "id": "OGJ-GxaVeR1W"
      },
      "source": [
        "for col in ['tipo_plantacao', 'tipo_solo', 'tipo_pesticida', 'epoca_ano']:\n",
        "    df_copy = pd.get_dummies(df_copy, columns=[col])"
      ],
      "execution_count": null,
      "outputs": []
    },
    {
      "cell_type": "code",
      "metadata": {
        "colab": {
          "base_uri": "https://localhost:8080/",
          "height": 224
        },
        "id": "W6xGLZateSpk",
        "outputId": "af828b20-17f7-4685-8f51-3ad7215516af"
      },
      "source": [
        "df_copy.head()"
      ],
      "execution_count": null,
      "outputs": [
        {
          "output_type": "execute_result",
          "data": {
            "text/html": [
              "<div>\n",
              "<style scoped>\n",
              "    .dataframe tbody tr th:only-of-type {\n",
              "        vertical-align: middle;\n",
              "    }\n",
              "\n",
              "    .dataframe tbody tr th {\n",
              "        vertical-align: top;\n",
              "    }\n",
              "\n",
              "    .dataframe thead th {\n",
              "        text-align: right;\n",
              "    }\n",
              "</style>\n",
              "<table border=\"1\" class=\"dataframe\">\n",
              "  <thead>\n",
              "    <tr style=\"text-align: right;\">\n",
              "      <th></th>\n",
              "      <th>numero_insetos</th>\n",
              "      <th>qtd_doses_pesticida_semana</th>\n",
              "      <th>qtd_semanas_uso_pesticida</th>\n",
              "      <th>qtd_semanas_quit</th>\n",
              "      <th>dano_plantacao</th>\n",
              "      <th>tipo_plantacao_0</th>\n",
              "      <th>tipo_plantacao_1</th>\n",
              "      <th>tipo_solo_0</th>\n",
              "      <th>tipo_solo_1</th>\n",
              "      <th>tipo_pesticida_1</th>\n",
              "      <th>tipo_pesticida_2</th>\n",
              "      <th>tipo_pesticida_3</th>\n",
              "      <th>epoca_ano_1</th>\n",
              "      <th>epoca_ano_2</th>\n",
              "      <th>epoca_ano_3</th>\n",
              "    </tr>\n",
              "  </thead>\n",
              "  <tbody>\n",
              "    <tr>\n",
              "      <th>1</th>\n",
              "      <td>209</td>\n",
              "      <td>0</td>\n",
              "      <td>0.0</td>\n",
              "      <td>0</td>\n",
              "      <td>1</td>\n",
              "      <td>0</td>\n",
              "      <td>1</td>\n",
              "      <td>1</td>\n",
              "      <td>0</td>\n",
              "      <td>1</td>\n",
              "      <td>0</td>\n",
              "      <td>0</td>\n",
              "      <td>0</td>\n",
              "      <td>1</td>\n",
              "      <td>0</td>\n",
              "    </tr>\n",
              "    <tr>\n",
              "      <th>2</th>\n",
              "      <td>257</td>\n",
              "      <td>0</td>\n",
              "      <td>0.0</td>\n",
              "      <td>0</td>\n",
              "      <td>1</td>\n",
              "      <td>0</td>\n",
              "      <td>1</td>\n",
              "      <td>1</td>\n",
              "      <td>0</td>\n",
              "      <td>1</td>\n",
              "      <td>0</td>\n",
              "      <td>0</td>\n",
              "      <td>0</td>\n",
              "      <td>1</td>\n",
              "      <td>0</td>\n",
              "    </tr>\n",
              "    <tr>\n",
              "      <th>3</th>\n",
              "      <td>257</td>\n",
              "      <td>0</td>\n",
              "      <td>0.0</td>\n",
              "      <td>0</td>\n",
              "      <td>1</td>\n",
              "      <td>0</td>\n",
              "      <td>1</td>\n",
              "      <td>0</td>\n",
              "      <td>1</td>\n",
              "      <td>1</td>\n",
              "      <td>0</td>\n",
              "      <td>0</td>\n",
              "      <td>0</td>\n",
              "      <td>1</td>\n",
              "      <td>0</td>\n",
              "    </tr>\n",
              "    <tr>\n",
              "      <th>4</th>\n",
              "      <td>342</td>\n",
              "      <td>0</td>\n",
              "      <td>0.0</td>\n",
              "      <td>0</td>\n",
              "      <td>1</td>\n",
              "      <td>0</td>\n",
              "      <td>1</td>\n",
              "      <td>1</td>\n",
              "      <td>0</td>\n",
              "      <td>1</td>\n",
              "      <td>0</td>\n",
              "      <td>0</td>\n",
              "      <td>0</td>\n",
              "      <td>1</td>\n",
              "      <td>0</td>\n",
              "    </tr>\n",
              "    <tr>\n",
              "      <th>7</th>\n",
              "      <td>577</td>\n",
              "      <td>0</td>\n",
              "      <td>0.0</td>\n",
              "      <td>0</td>\n",
              "      <td>2</td>\n",
              "      <td>0</td>\n",
              "      <td>1</td>\n",
              "      <td>1</td>\n",
              "      <td>0</td>\n",
              "      <td>1</td>\n",
              "      <td>0</td>\n",
              "      <td>0</td>\n",
              "      <td>1</td>\n",
              "      <td>0</td>\n",
              "      <td>0</td>\n",
              "    </tr>\n",
              "  </tbody>\n",
              "</table>\n",
              "</div>"
            ],
            "text/plain": [
              "   numero_insetos  qtd_doses_pesticida_semana  ...  epoca_ano_2  epoca_ano_3\n",
              "1             209                           0  ...            1            0\n",
              "2             257                           0  ...            1            0\n",
              "3             257                           0  ...            1            0\n",
              "4             342                           0  ...            1            0\n",
              "7             577                           0  ...            0            0\n",
              "\n",
              "[5 rows x 15 columns]"
            ]
          },
          "metadata": {
            "tags": []
          },
          "execution_count": 72
        }
      ]
    },
    {
      "cell_type": "code",
      "metadata": {
        "id": "0t2YQ71CfV_5"
      },
      "source": [
        "X = df_copy.drop(['dano_plantacao'], axis=1)\n",
        "y = df_copy['dano_plantacao'].values.reshape(-1,1)"
      ],
      "execution_count": null,
      "outputs": []
    },
    {
      "cell_type": "code",
      "metadata": {
        "id": "dEd5RK0QfqKJ"
      },
      "source": [
        "resultados_naive_b = []\n",
        "resultados_logistic_r = []\n",
        "resultados_decision_t = []\n",
        "resultados_random_f = []"
      ],
      "execution_count": null,
      "outputs": []
    },
    {
      "cell_type": "code",
      "metadata": {
        "id": "rdGM9LV0fxcV"
      },
      "source": [
        "for i in range(5):\n",
        "    X_treino, X_teste, y_treino, y_teste = train_test_split(X, y, test_size=0.2,\n",
        "                                                            stratify=y,\n",
        "                                                            random_state=i)\n",
        "    naive_b = GaussianNB()\n",
        "    naive_b.fit(X_treino, y_treino)\n",
        "    resultados_naive_b.append(accuracy_score(y_teste, naive_b.predict(X_teste)))\n",
        "\n",
        "    logistic_r = LogisticRegression()\n",
        "    logistic_r.fit(X_treino, y_treino)\n",
        "    resultados_logistic_r.append(accuracy_score(y_teste, logistic_r.predict(X_teste)))\n",
        "\n",
        "    decision_t = tree.DecisionTreeClassifier()\n",
        "    decision_t.fit(X_treino, y_treino)\n",
        "    resultados_decision_t.append(accuracy_score(y_teste, decision_t.predict(X_teste)))\n",
        "\n",
        "    random_f = RandomForestClassifier()\n",
        "    random_f.fit(X_treino, y_treino)\n",
        "    resultados_random_f.append(accuracy_score(y_teste, random_f.predict(X_teste)))"
      ],
      "execution_count": null,
      "outputs": []
    },
    {
      "cell_type": "code",
      "metadata": {
        "id": "llNo2XOFf3RU"
      },
      "source": [
        "resultados_naive_b = np.array(resultados_naive_b)\n",
        "resultados_logistic_r = np.array(resultados_logistic_r)\n",
        "resultados_decision_t = np.array(resultados_decision_t)\n",
        "resultados_random_f = np.array(resultados_random_f)"
      ],
      "execution_count": null,
      "outputs": []
    },
    {
      "cell_type": "code",
      "metadata": {
        "colab": {
          "base_uri": "https://localhost:8080/"
        },
        "id": "r9xBnY78gibe",
        "outputId": "c9264187-8467-4d24-eca3-a00d94b78c7c"
      },
      "source": [
        "# Com one-hot encoder:\n",
        "# Naive Bayes = 83%\n",
        "# Regressão logistica = 83%\n",
        "# Decision tree = 74%\n",
        "# Random Forest = 82%\n",
        "resultados_naive_b.mean(), resultados_logistic_r.mean(), resultados_decision_t.mean(), resultados_random_f.mean()"
      ],
      "execution_count": null,
      "outputs": [
        {
          "output_type": "execute_result",
          "data": {
            "text/plain": [
              "(0.8320998894452754,\n",
              " 0.8391753918189504,\n",
              " 0.7493919490147624,\n",
              " 0.8226572153215843)"
            ]
          },
          "metadata": {
            "tags": []
          },
          "execution_count": 77
        }
      ]
    },
    {
      "cell_type": "markdown",
      "metadata": {
        "id": "9bfiXqK3WBC4"
      },
      "source": [
        "## Subamostragem"
      ]
    },
    {
      "cell_type": "code",
      "metadata": {
        "id": "_MWd0B2DYzip"
      },
      "source": [
        "from imblearn.under_sampling import TomekLinks"
      ],
      "execution_count": null,
      "outputs": []
    },
    {
      "cell_type": "code",
      "metadata": {
        "id": "W7-dHsSCWQNC"
      },
      "source": [
        "tl = TomekLinks(return_indices=True, ratio='majority')\n",
        "X_under, y_under, id_under = tl.fit_sample(X, y)"
      ],
      "execution_count": null,
      "outputs": []
    },
    {
      "cell_type": "code",
      "metadata": {
        "colab": {
          "base_uri": "https://localhost:8080/"
        },
        "id": "Qnf8ZDpbW7eN",
        "outputId": "a3ca51d5-6d05-45d1-94e6-c542de42bf18"
      },
      "source": [
        "X_under.shape, y_under.shape"
      ],
      "execution_count": null,
      "outputs": [
        {
          "output_type": "execute_result",
          "data": {
            "text/plain": [
              "((72834, 14), (72834,))"
            ]
          },
          "metadata": {
            "tags": []
          },
          "execution_count": 80
        }
      ]
    },
    {
      "cell_type": "code",
      "metadata": {
        "id": "J7zh0R41XUkN"
      },
      "source": [
        "resultados_naive_b = []\n",
        "resultados_logistic_r = []\n",
        "resultados_decision_t = []\n",
        "resultados_random_f = []"
      ],
      "execution_count": null,
      "outputs": []
    },
    {
      "cell_type": "code",
      "metadata": {
        "id": "8RIRQ6i1XBIV"
      },
      "source": [
        "for i in range(5):\n",
        "    X_treino_u, X_teste_u, y_treino_u, y_teste_u = train_test_split(X_under, y_under, test_size=0.2,\n",
        "                                                            stratify=y_under,\n",
        "                                                            random_state=i)\n",
        "    naive_b = GaussianNB()\n",
        "    naive_b.fit(X_treino_u, y_treino_u)\n",
        "    resultados_naive_b.append(accuracy_score(y_teste_u, naive_b.predict(X_teste_u)))\n",
        "\n",
        "    logistic_r = LogisticRegression()\n",
        "    logistic_r.fit(X_treino_u, y_treino_u)\n",
        "    resultados_logistic_r.append(accuracy_score(y_teste_u, logistic_r.predict(X_teste_u)))\n",
        "\n",
        "    decision_t = tree.DecisionTreeClassifier()\n",
        "    decision_t.fit(X_treino_u, y_treino_u)\n",
        "    resultados_decision_t.append(accuracy_score(y_teste_u, decision_t.predict(X_teste_u)))\n",
        "\n",
        "    random_f = RandomForestClassifier()\n",
        "    random_f.fit(X_treino_u, y_treino_u)\n",
        "    resultados_random_f.append(accuracy_score(y_teste_u, random_f.predict(X_teste_u)))"
      ],
      "execution_count": null,
      "outputs": []
    },
    {
      "cell_type": "code",
      "metadata": {
        "id": "JvIo3fy2Xj3a"
      },
      "source": [
        "resultados_naive_b = np.array(resultados_naive_b)\n",
        "resultados_logistic_r = np.array(resultados_logistic_r)\n",
        "resultados_decision_t = np.array(resultados_decision_t)\n",
        "resultados_random_f = np.array(resultados_random_f)"
      ],
      "execution_count": null,
      "outputs": []
    },
    {
      "cell_type": "code",
      "metadata": {
        "colab": {
          "base_uri": "https://localhost:8080/"
        },
        "id": "NYaxPSFSXotT",
        "outputId": "873cb01b-af33-49b1-8dd0-fa645f18a718"
      },
      "source": [
        "# Com subamostragem:\n",
        "# Naive Bayes = 82%\n",
        "# Regressão logistica = 83%\n",
        "# Decision tree = 75%\n",
        "# Random Forest = 82%\n",
        "resultados_naive_b.mean(), resultados_logistic_r.mean(), resultados_decision_t.mean(), resultados_random_f.mean()"
      ],
      "execution_count": null,
      "outputs": [
        {
          "output_type": "execute_result",
          "data": {
            "text/plain": [
              "(0.8269101393560788, 0.8303700144161461, 0.754252763094666, 0.8238346948582412)"
            ]
          },
          "metadata": {
            "tags": []
          },
          "execution_count": 84
        }
      ]
    },
    {
      "cell_type": "markdown",
      "metadata": {
        "id": "pGCrr9VvXuH9"
      },
      "source": [
        "## Sobreamostragem"
      ]
    },
    {
      "cell_type": "code",
      "metadata": {
        "id": "4KknfmZZXrdb"
      },
      "source": [
        "from imblearn.over_sampling import SMOTE"
      ],
      "execution_count": null,
      "outputs": []
    },
    {
      "cell_type": "code",
      "metadata": {
        "id": "vp_s4xZ7X9i6"
      },
      "source": [
        "smote = SMOTE(ratio='minority')\n",
        "X_over, y_over = smote.fit_sample(X, y)"
      ],
      "execution_count": null,
      "outputs": []
    },
    {
      "cell_type": "code",
      "metadata": {
        "colab": {
          "base_uri": "https://localhost:8080/"
        },
        "id": "GvtIdUttYLjK",
        "outputId": "6f572924-95a3-47af-a35c-1e8dedb821fb"
      },
      "source": [
        "X_over.shape, y_over.shape"
      ],
      "execution_count": null,
      "outputs": [
        {
          "output_type": "execute_result",
          "data": {
            "text/plain": [
              "((139790, 14), (139790,))"
            ]
          },
          "metadata": {
            "tags": []
          },
          "execution_count": 89
        }
      ]
    },
    {
      "cell_type": "code",
      "metadata": {
        "id": "1n4yh5x4YTS5"
      },
      "source": [
        "resultados_naive_b = []\n",
        "resultados_logistic_r = []\n",
        "resultados_decision_t = []\n",
        "resultados_random_f = []"
      ],
      "execution_count": null,
      "outputs": []
    },
    {
      "cell_type": "code",
      "metadata": {
        "id": "eUn2SlExYZq5"
      },
      "source": [
        "for i in range(5):\n",
        "    X_treino_o, X_teste_o, y_treino_o, y_teste_o = train_test_split(X_over, y_over, test_size=0.2,\n",
        "                                                            stratify=y_over,\n",
        "                                                            random_state=i)\n",
        "    naive_b = GaussianNB()\n",
        "    naive_b.fit(X_treino_o, y_treino_o)\n",
        "    resultados_naive_b.append(accuracy_score(y_teste_o, naive_b.predict(X_teste_o)))\n",
        "\n",
        "    logistic_r = LogisticRegression()\n",
        "    logistic_r.fit(X_treino_o, y_treino_o)\n",
        "    resultados_logistic_r.append(accuracy_score(y_teste_o, logistic_r.predict(X_teste_o)))\n",
        "\n",
        "    decision_t = tree.DecisionTreeClassifier()\n",
        "    decision_t.fit(X_treino_o, y_treino_o)\n",
        "    resultados_decision_t.append(accuracy_score(y_teste_o, decision_t.predict(X_teste_o)))\n",
        "\n",
        "    random_f = RandomForestClassifier()\n",
        "    random_f.fit(X_treino_o, y_treino_o)\n",
        "    resultados_random_f.append(accuracy_score(y_teste_o, random_f.predict(X_teste_o)))"
      ],
      "execution_count": null,
      "outputs": []
    },
    {
      "cell_type": "code",
      "metadata": {
        "id": "R1Vj9GM7Yuw3"
      },
      "source": [
        "resultados_naive_b = np.array(resultados_naive_b)\n",
        "resultados_logistic_r = np.array(resultados_logistic_r)\n",
        "resultados_decision_t = np.array(resultados_decision_t)\n",
        "resultados_random_f = np.array(resultados_random_f)"
      ],
      "execution_count": null,
      "outputs": []
    },
    {
      "cell_type": "code",
      "metadata": {
        "colab": {
          "base_uri": "https://localhost:8080/"
        },
        "id": "r4ws32I2Yv09",
        "outputId": "6ade776e-d8c6-4090-c8c3-7d4aa0e75b66"
      },
      "source": [
        "# Com sobreamostragem:\n",
        "# Naive Bayes = 71%\n",
        "# Regressão logistica = 68%\n",
        "# Decision tree = 85%\n",
        "# Random Forest = 89%\n",
        "resultados_naive_b.mean(), resultados_logistic_r.mean(), resultados_decision_t.mean(), resultados_random_f.mean()"
      ],
      "execution_count": null,
      "outputs": [
        {
          "output_type": "execute_result",
          "data": {
            "text/plain": [
              "(0.713269904857286, 0.6855497532012305, 0.8573145432434366, 0.8993561771228272)"
            ]
          },
          "metadata": {
            "tags": []
          },
          "execution_count": 93
        }
      ]
    },
    {
      "cell_type": "code",
      "metadata": {
        "id": "oCf5eCcQjRTN"
      },
      "source": [
        "# Testando com KNN\n",
        "from sklearn.neighbors import KNeighborsClassifier"
      ],
      "execution_count": null,
      "outputs": []
    },
    {
      "cell_type": "code",
      "metadata": {
        "id": "n9ZrG6ECj19f"
      },
      "source": [
        "resultados_knn = []\n",
        "resultados_decision_t = []\n",
        "resultados_random_f = []"
      ],
      "execution_count": null,
      "outputs": []
    },
    {
      "cell_type": "code",
      "metadata": {
        "id": "MzDR_hzNiRNU"
      },
      "source": [
        "for i in range(5):\n",
        "    X_treino_o, X_teste_o, y_treino_o, y_teste_o = train_test_split(X_over, y_over, test_size=0.2,\n",
        "                                                            stratify=y_over,\n",
        "                                                            random_state=i)\n",
        "    knn = KNeighborsClassifier()\n",
        "    knn.fit(X_treino_o, y_treino_o)\n",
        "    resultados_knn.append(accuracy_score(y_teste_o, knn.predict(X_teste_o)))\n",
        "\n",
        "    decision_t = tree.DecisionTreeClassifier()\n",
        "    decision_t.fit(X_treino_o, y_treino_o)\n",
        "    resultados_decision_t.append(accuracy_score(y_teste_o, decision_t.predict(X_teste_o)))\n",
        "\n",
        "    random_f = RandomForestClassifier()\n",
        "    random_f.fit(X_treino_o, y_treino_o)\n",
        "    resultados_random_f.append(accuracy_score(y_teste_o, random_f.predict(X_teste_o)))"
      ],
      "execution_count": null,
      "outputs": []
    },
    {
      "cell_type": "code",
      "metadata": {
        "id": "6l2rQlBNkNtm"
      },
      "source": [
        "resultados_knn = np.array(resultados_knn)\n",
        "resultados_decision_t = np.array(resultados_decision_t)\n",
        "resultados_random_f = np.array(resultados_random_f)"
      ],
      "execution_count": null,
      "outputs": []
    },
    {
      "cell_type": "code",
      "metadata": {
        "colab": {
          "base_uri": "https://localhost:8080/"
        },
        "id": "wZdRSBy8k1UU",
        "outputId": "34597c65-a774-4d46-f41f-c05bcfee1bb9"
      },
      "source": [
        "# Com sobreamostragem usando KNN:\n",
        "# KNN = 84%\n",
        "# Decision tree = 85%\n",
        "# Random Forest = 89%\n",
        "resultados_knn.mean(), resultados_decision_t.mean(), resultados_random_f.mean()"
      ],
      "execution_count": null,
      "outputs": [
        {
          "output_type": "execute_result",
          "data": {
            "text/plain": [
              "(0.8428356820945704, 0.8575434580442091, 0.8992631804850133)"
            ]
          },
          "metadata": {
            "tags": []
          },
          "execution_count": 99
        }
      ]
    },
    {
      "cell_type": "markdown",
      "metadata": {
        "id": "GoSgk-GalTlC"
      },
      "source": [
        "## Seleção de atributos com Qui Quadrado"
      ]
    },
    {
      "cell_type": "code",
      "metadata": {
        "id": "te3Tzcmjk7_6"
      },
      "source": [
        ""
      ],
      "execution_count": null,
      "outputs": []
    }
  ]
}