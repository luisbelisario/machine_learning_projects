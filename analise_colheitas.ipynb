{
 "cells": [
  {
   "cell_type": "code",
   "execution_count": 1,
   "metadata": {
    "id": "j10eFf7d6tJh"
   },
   "outputs": [],
   "source": [
    "import numpy as np\n",
    "import pandas as pd\n",
    "import matplotlib.pyplot as plt\n",
    "import seaborn as sns\n",
    "import warnings\n",
    "warnings.filterwarnings('ignore')"
   ]
  },
  {
   "cell_type": "code",
   "execution_count": 2,
   "metadata": {
    "colab": {
     "base_uri": "https://localhost:8080/",
     "height": 224
    },
    "id": "JXalSwgA6x0g",
    "outputId": "720762f7-f033-4b50-e3fc-b5b802eaf39c"
   },
   "outputs": [
    {
     "data": {
      "text/html": [
       "<div>\n",
       "<style scoped>\n",
       "    .dataframe tbody tr th:only-of-type {\n",
       "        vertical-align: middle;\n",
       "    }\n",
       "\n",
       "    .dataframe tbody tr th {\n",
       "        vertical-align: top;\n",
       "    }\n",
       "\n",
       "    .dataframe thead th {\n",
       "        text-align: right;\n",
       "    }\n",
       "</style>\n",
       "<table border=\"1\" class=\"dataframe\">\n",
       "  <thead>\n",
       "    <tr style=\"text-align: right;\">\n",
       "      <th></th>\n",
       "      <th>ID</th>\n",
       "      <th>Estimated_Insects_Count</th>\n",
       "      <th>Crop_Type</th>\n",
       "      <th>Soil_Type</th>\n",
       "      <th>Pesticide_Use_Category</th>\n",
       "      <th>Number_Doses_Week</th>\n",
       "      <th>Number_Weeks_Used</th>\n",
       "      <th>Number_Weeks_Quit</th>\n",
       "      <th>Season</th>\n",
       "      <th>Crop_Damage</th>\n",
       "    </tr>\n",
       "  </thead>\n",
       "  <tbody>\n",
       "    <tr>\n",
       "      <th>0</th>\n",
       "      <td>F00000001</td>\n",
       "      <td>188</td>\n",
       "      <td>1</td>\n",
       "      <td>0</td>\n",
       "      <td>1</td>\n",
       "      <td>0</td>\n",
       "      <td>0.0</td>\n",
       "      <td>0</td>\n",
       "      <td>1</td>\n",
       "      <td>0</td>\n",
       "    </tr>\n",
       "    <tr>\n",
       "      <th>1</th>\n",
       "      <td>F00000003</td>\n",
       "      <td>209</td>\n",
       "      <td>1</td>\n",
       "      <td>0</td>\n",
       "      <td>1</td>\n",
       "      <td>0</td>\n",
       "      <td>0.0</td>\n",
       "      <td>0</td>\n",
       "      <td>2</td>\n",
       "      <td>1</td>\n",
       "    </tr>\n",
       "    <tr>\n",
       "      <th>2</th>\n",
       "      <td>F00000004</td>\n",
       "      <td>257</td>\n",
       "      <td>1</td>\n",
       "      <td>0</td>\n",
       "      <td>1</td>\n",
       "      <td>0</td>\n",
       "      <td>0.0</td>\n",
       "      <td>0</td>\n",
       "      <td>2</td>\n",
       "      <td>1</td>\n",
       "    </tr>\n",
       "    <tr>\n",
       "      <th>3</th>\n",
       "      <td>F00000005</td>\n",
       "      <td>257</td>\n",
       "      <td>1</td>\n",
       "      <td>1</td>\n",
       "      <td>1</td>\n",
       "      <td>0</td>\n",
       "      <td>0.0</td>\n",
       "      <td>0</td>\n",
       "      <td>2</td>\n",
       "      <td>1</td>\n",
       "    </tr>\n",
       "    <tr>\n",
       "      <th>4</th>\n",
       "      <td>F00000006</td>\n",
       "      <td>342</td>\n",
       "      <td>1</td>\n",
       "      <td>0</td>\n",
       "      <td>1</td>\n",
       "      <td>0</td>\n",
       "      <td>0.0</td>\n",
       "      <td>0</td>\n",
       "      <td>2</td>\n",
       "      <td>1</td>\n",
       "    </tr>\n",
       "  </tbody>\n",
       "</table>\n",
       "</div>"
      ],
      "text/plain": [
       "          ID  Estimated_Insects_Count  Crop_Type  Soil_Type  \\\n",
       "0  F00000001                      188          1          0   \n",
       "1  F00000003                      209          1          0   \n",
       "2  F00000004                      257          1          0   \n",
       "3  F00000005                      257          1          1   \n",
       "4  F00000006                      342          1          0   \n",
       "\n",
       "   Pesticide_Use_Category  Number_Doses_Week  Number_Weeks_Used  \\\n",
       "0                       1                  0                0.0   \n",
       "1                       1                  0                0.0   \n",
       "2                       1                  0                0.0   \n",
       "3                       1                  0                0.0   \n",
       "4                       1                  0                0.0   \n",
       "\n",
       "   Number_Weeks_Quit  Season  Crop_Damage  \n",
       "0                  0       1            0  \n",
       "1                  0       2            1  \n",
       "2                  0       2            1  \n",
       "3                  0       2            1  \n",
       "4                  0       2            1  "
      ]
     },
     "execution_count": 2,
     "metadata": {},
     "output_type": "execute_result"
    }
   ],
   "source": [
    "df = pd.read_csv('crops.csv')\n",
    "df.head()"
   ]
  },
  {
   "cell_type": "code",
   "execution_count": 3,
   "metadata": {
    "colab": {
     "base_uri": "https://localhost:8080/",
     "height": 224
    },
    "id": "8F31_4AQ8xk9",
    "outputId": "8fbb75ce-03dc-4e43-ea09-d29c658efea9"
   },
   "outputs": [
    {
     "data": {
      "text/html": [
       "<div>\n",
       "<style scoped>\n",
       "    .dataframe tbody tr th:only-of-type {\n",
       "        vertical-align: middle;\n",
       "    }\n",
       "\n",
       "    .dataframe tbody tr th {\n",
       "        vertical-align: top;\n",
       "    }\n",
       "\n",
       "    .dataframe thead th {\n",
       "        text-align: right;\n",
       "    }\n",
       "</style>\n",
       "<table border=\"1\" class=\"dataframe\">\n",
       "  <thead>\n",
       "    <tr style=\"text-align: right;\">\n",
       "      <th></th>\n",
       "      <th>ID</th>\n",
       "      <th>Estimated_Insects_Count</th>\n",
       "      <th>Crop_Type</th>\n",
       "      <th>Soil_Type</th>\n",
       "      <th>Pesticide_Use_Category</th>\n",
       "      <th>Number_Doses_Week</th>\n",
       "      <th>Number_Weeks_Used</th>\n",
       "      <th>Number_Weeks_Quit</th>\n",
       "      <th>Season</th>\n",
       "      <th>Crop_Damage</th>\n",
       "    </tr>\n",
       "  </thead>\n",
       "  <tbody>\n",
       "    <tr>\n",
       "      <th>0</th>\n",
       "      <td>F00000001</td>\n",
       "      <td>188</td>\n",
       "      <td>1</td>\n",
       "      <td>0</td>\n",
       "      <td>1</td>\n",
       "      <td>0</td>\n",
       "      <td>0.0</td>\n",
       "      <td>0</td>\n",
       "      <td>1</td>\n",
       "      <td>0</td>\n",
       "    </tr>\n",
       "    <tr>\n",
       "      <th>1</th>\n",
       "      <td>F00000003</td>\n",
       "      <td>209</td>\n",
       "      <td>1</td>\n",
       "      <td>0</td>\n",
       "      <td>1</td>\n",
       "      <td>0</td>\n",
       "      <td>0.0</td>\n",
       "      <td>0</td>\n",
       "      <td>2</td>\n",
       "      <td>1</td>\n",
       "    </tr>\n",
       "    <tr>\n",
       "      <th>2</th>\n",
       "      <td>F00000004</td>\n",
       "      <td>257</td>\n",
       "      <td>1</td>\n",
       "      <td>0</td>\n",
       "      <td>1</td>\n",
       "      <td>0</td>\n",
       "      <td>0.0</td>\n",
       "      <td>0</td>\n",
       "      <td>2</td>\n",
       "      <td>1</td>\n",
       "    </tr>\n",
       "    <tr>\n",
       "      <th>3</th>\n",
       "      <td>F00000005</td>\n",
       "      <td>257</td>\n",
       "      <td>1</td>\n",
       "      <td>1</td>\n",
       "      <td>1</td>\n",
       "      <td>0</td>\n",
       "      <td>0.0</td>\n",
       "      <td>0</td>\n",
       "      <td>2</td>\n",
       "      <td>1</td>\n",
       "    </tr>\n",
       "    <tr>\n",
       "      <th>4</th>\n",
       "      <td>F00000006</td>\n",
       "      <td>342</td>\n",
       "      <td>1</td>\n",
       "      <td>0</td>\n",
       "      <td>1</td>\n",
       "      <td>0</td>\n",
       "      <td>0.0</td>\n",
       "      <td>0</td>\n",
       "      <td>2</td>\n",
       "      <td>1</td>\n",
       "    </tr>\n",
       "  </tbody>\n",
       "</table>\n",
       "</div>"
      ],
      "text/plain": [
       "          ID  Estimated_Insects_Count  Crop_Type  Soil_Type  \\\n",
       "0  F00000001                      188          1          0   \n",
       "1  F00000003                      209          1          0   \n",
       "2  F00000004                      257          1          0   \n",
       "3  F00000005                      257          1          1   \n",
       "4  F00000006                      342          1          0   \n",
       "\n",
       "   Pesticide_Use_Category  Number_Doses_Week  Number_Weeks_Used  \\\n",
       "0                       1                  0                0.0   \n",
       "1                       1                  0                0.0   \n",
       "2                       1                  0                0.0   \n",
       "3                       1                  0                0.0   \n",
       "4                       1                  0                0.0   \n",
       "\n",
       "   Number_Weeks_Quit  Season  Crop_Damage  \n",
       "0                  0       1            0  \n",
       "1                  0       2            1  \n",
       "2                  0       2            1  \n",
       "3                  0       2            1  \n",
       "4                  0       2            1  "
      ]
     },
     "execution_count": 3,
     "metadata": {},
     "output_type": "execute_result"
    }
   ],
   "source": [
    "df_copy = df.copy()\n",
    "df_copy.head()"
   ]
  },
  {
   "cell_type": "code",
   "execution_count": 4,
   "metadata": {
    "colab": {
     "base_uri": "https://localhost:8080/",
     "height": 224
    },
    "id": "1dg8654k9BIz",
    "outputId": "843c8ce9-d789-49dc-b702-49b3d1005c51"
   },
   "outputs": [
    {
     "data": {
      "text/html": [
       "<div>\n",
       "<style scoped>\n",
       "    .dataframe tbody tr th:only-of-type {\n",
       "        vertical-align: middle;\n",
       "    }\n",
       "\n",
       "    .dataframe tbody tr th {\n",
       "        vertical-align: top;\n",
       "    }\n",
       "\n",
       "    .dataframe thead th {\n",
       "        text-align: right;\n",
       "    }\n",
       "</style>\n",
       "<table border=\"1\" class=\"dataframe\">\n",
       "  <thead>\n",
       "    <tr style=\"text-align: right;\">\n",
       "      <th></th>\n",
       "      <th>Estimated_Insects_Count</th>\n",
       "      <th>Crop_Type</th>\n",
       "      <th>Soil_Type</th>\n",
       "      <th>Pesticide_Use_Category</th>\n",
       "      <th>Number_Doses_Week</th>\n",
       "      <th>Number_Weeks_Used</th>\n",
       "      <th>Number_Weeks_Quit</th>\n",
       "      <th>Season</th>\n",
       "      <th>Crop_Damage</th>\n",
       "    </tr>\n",
       "  </thead>\n",
       "  <tbody>\n",
       "    <tr>\n",
       "      <th>0</th>\n",
       "      <td>188</td>\n",
       "      <td>1</td>\n",
       "      <td>0</td>\n",
       "      <td>1</td>\n",
       "      <td>0</td>\n",
       "      <td>0.0</td>\n",
       "      <td>0</td>\n",
       "      <td>1</td>\n",
       "      <td>0</td>\n",
       "    </tr>\n",
       "    <tr>\n",
       "      <th>1</th>\n",
       "      <td>209</td>\n",
       "      <td>1</td>\n",
       "      <td>0</td>\n",
       "      <td>1</td>\n",
       "      <td>0</td>\n",
       "      <td>0.0</td>\n",
       "      <td>0</td>\n",
       "      <td>2</td>\n",
       "      <td>1</td>\n",
       "    </tr>\n",
       "    <tr>\n",
       "      <th>2</th>\n",
       "      <td>257</td>\n",
       "      <td>1</td>\n",
       "      <td>0</td>\n",
       "      <td>1</td>\n",
       "      <td>0</td>\n",
       "      <td>0.0</td>\n",
       "      <td>0</td>\n",
       "      <td>2</td>\n",
       "      <td>1</td>\n",
       "    </tr>\n",
       "    <tr>\n",
       "      <th>3</th>\n",
       "      <td>257</td>\n",
       "      <td>1</td>\n",
       "      <td>1</td>\n",
       "      <td>1</td>\n",
       "      <td>0</td>\n",
       "      <td>0.0</td>\n",
       "      <td>0</td>\n",
       "      <td>2</td>\n",
       "      <td>1</td>\n",
       "    </tr>\n",
       "    <tr>\n",
       "      <th>4</th>\n",
       "      <td>342</td>\n",
       "      <td>1</td>\n",
       "      <td>0</td>\n",
       "      <td>1</td>\n",
       "      <td>0</td>\n",
       "      <td>0.0</td>\n",
       "      <td>0</td>\n",
       "      <td>2</td>\n",
       "      <td>1</td>\n",
       "    </tr>\n",
       "  </tbody>\n",
       "</table>\n",
       "</div>"
      ],
      "text/plain": [
       "   Estimated_Insects_Count  Crop_Type  Soil_Type  Pesticide_Use_Category  \\\n",
       "0                      188          1          0                       1   \n",
       "1                      209          1          0                       1   \n",
       "2                      257          1          0                       1   \n",
       "3                      257          1          1                       1   \n",
       "4                      342          1          0                       1   \n",
       "\n",
       "   Number_Doses_Week  Number_Weeks_Used  Number_Weeks_Quit  Season  \\\n",
       "0                  0                0.0                  0       1   \n",
       "1                  0                0.0                  0       2   \n",
       "2                  0                0.0                  0       2   \n",
       "3                  0                0.0                  0       2   \n",
       "4                  0                0.0                  0       2   \n",
       "\n",
       "   Crop_Damage  \n",
       "0            0  \n",
       "1            1  \n",
       "2            1  \n",
       "3            1  \n",
       "4            1  "
      ]
     },
     "execution_count": 4,
     "metadata": {},
     "output_type": "execute_result"
    }
   ],
   "source": [
    "df_copy.drop(labels=['ID'], axis=1, inplace=True)\n",
    "df_copy.head()"
   ]
  },
  {
   "cell_type": "code",
   "execution_count": 5,
   "metadata": {
    "colab": {
     "base_uri": "https://localhost:8080/",
     "height": 204
    },
    "id": "TsT5LgOS9Hvx",
    "outputId": "7ee7a598-a7ef-48e7-8177-4206ecc41cb2"
   },
   "outputs": [
    {
     "data": {
      "text/html": [
       "<div>\n",
       "<style scoped>\n",
       "    .dataframe tbody tr th:only-of-type {\n",
       "        vertical-align: middle;\n",
       "    }\n",
       "\n",
       "    .dataframe tbody tr th {\n",
       "        vertical-align: top;\n",
       "    }\n",
       "\n",
       "    .dataframe thead th {\n",
       "        text-align: right;\n",
       "    }\n",
       "</style>\n",
       "<table border=\"1\" class=\"dataframe\">\n",
       "  <thead>\n",
       "    <tr style=\"text-align: right;\">\n",
       "      <th></th>\n",
       "      <th>numero_insetos</th>\n",
       "      <th>tipo_plantacao</th>\n",
       "      <th>tipo_solo</th>\n",
       "      <th>tipo_pesticida</th>\n",
       "      <th>qtd_doses_pesticida_semana</th>\n",
       "      <th>qtd_semanas_uso_pesticida</th>\n",
       "      <th>qtd_semanas_quit</th>\n",
       "      <th>epoca_ano</th>\n",
       "      <th>dano_plantacao</th>\n",
       "    </tr>\n",
       "  </thead>\n",
       "  <tbody>\n",
       "    <tr>\n",
       "      <th>0</th>\n",
       "      <td>188</td>\n",
       "      <td>1</td>\n",
       "      <td>0</td>\n",
       "      <td>1</td>\n",
       "      <td>0</td>\n",
       "      <td>0.0</td>\n",
       "      <td>0</td>\n",
       "      <td>1</td>\n",
       "      <td>0</td>\n",
       "    </tr>\n",
       "    <tr>\n",
       "      <th>1</th>\n",
       "      <td>209</td>\n",
       "      <td>1</td>\n",
       "      <td>0</td>\n",
       "      <td>1</td>\n",
       "      <td>0</td>\n",
       "      <td>0.0</td>\n",
       "      <td>0</td>\n",
       "      <td>2</td>\n",
       "      <td>1</td>\n",
       "    </tr>\n",
       "    <tr>\n",
       "      <th>2</th>\n",
       "      <td>257</td>\n",
       "      <td>1</td>\n",
       "      <td>0</td>\n",
       "      <td>1</td>\n",
       "      <td>0</td>\n",
       "      <td>0.0</td>\n",
       "      <td>0</td>\n",
       "      <td>2</td>\n",
       "      <td>1</td>\n",
       "    </tr>\n",
       "    <tr>\n",
       "      <th>3</th>\n",
       "      <td>257</td>\n",
       "      <td>1</td>\n",
       "      <td>1</td>\n",
       "      <td>1</td>\n",
       "      <td>0</td>\n",
       "      <td>0.0</td>\n",
       "      <td>0</td>\n",
       "      <td>2</td>\n",
       "      <td>1</td>\n",
       "    </tr>\n",
       "    <tr>\n",
       "      <th>4</th>\n",
       "      <td>342</td>\n",
       "      <td>1</td>\n",
       "      <td>0</td>\n",
       "      <td>1</td>\n",
       "      <td>0</td>\n",
       "      <td>0.0</td>\n",
       "      <td>0</td>\n",
       "      <td>2</td>\n",
       "      <td>1</td>\n",
       "    </tr>\n",
       "  </tbody>\n",
       "</table>\n",
       "</div>"
      ],
      "text/plain": [
       "   numero_insetos  tipo_plantacao  tipo_solo  tipo_pesticida  \\\n",
       "0             188               1          0               1   \n",
       "1             209               1          0               1   \n",
       "2             257               1          0               1   \n",
       "3             257               1          1               1   \n",
       "4             342               1          0               1   \n",
       "\n",
       "   qtd_doses_pesticida_semana  qtd_semanas_uso_pesticida  qtd_semanas_quit  \\\n",
       "0                           0                        0.0                 0   \n",
       "1                           0                        0.0                 0   \n",
       "2                           0                        0.0                 0   \n",
       "3                           0                        0.0                 0   \n",
       "4                           0                        0.0                 0   \n",
       "\n",
       "   epoca_ano  dano_plantacao  \n",
       "0          1               0  \n",
       "1          2               1  \n",
       "2          2               1  \n",
       "3          2               1  \n",
       "4          2               1  "
      ]
     },
     "execution_count": 5,
     "metadata": {},
     "output_type": "execute_result"
    }
   ],
   "source": [
    "df_copy.rename({'Estimated_Insects_Count': 'numero_insetos',\n",
    "                'Crop_Type': 'tipo_plantacao',\n",
    "                'Soil_Type': 'tipo_solo',\n",
    "                'Pesticide_Use_Category': 'tipo_pesticida',\n",
    "                'Number_Doses_Week': 'qtd_doses_pesticida_semana',\n",
    "                'Number_Weeks_Used': 'qtd_semanas_uso_pesticida',\n",
    "                'Number_Weeks_Quit': 'qtd_semanas_quit',\n",
    "                'Season': 'epoca_ano',\n",
    "                'Crop_Damage': 'dano_plantacao'}, axis=1, inplace=True)\n",
    "df_copy.head()"
   ]
  },
  {
   "cell_type": "code",
   "execution_count": 6,
   "metadata": {
    "colab": {
     "base_uri": "https://localhost:8080/"
    },
    "id": "RjFucSxEFVF2",
    "outputId": "896fc8fb-d318-4a8c-d7e3-2bbfd57f2d34"
   },
   "outputs": [
    {
     "name": "stdout",
     "output_type": "stream",
     "text": [
      "<class 'pandas.core.frame.DataFrame'>\n",
      "RangeIndex: 88858 entries, 0 to 88857\n",
      "Data columns (total 9 columns):\n",
      " #   Column                      Non-Null Count  Dtype  \n",
      "---  ------                      --------------  -----  \n",
      " 0   numero_insetos              88858 non-null  int64  \n",
      " 1   tipo_plantacao              88858 non-null  int64  \n",
      " 2   tipo_solo                   88858 non-null  int64  \n",
      " 3   tipo_pesticida              88858 non-null  int64  \n",
      " 4   qtd_doses_pesticida_semana  88858 non-null  int64  \n",
      " 5   qtd_semanas_uso_pesticida   79858 non-null  float64\n",
      " 6   qtd_semanas_quit            88858 non-null  int64  \n",
      " 7   epoca_ano                   88858 non-null  int64  \n",
      " 8   dano_plantacao              88858 non-null  int64  \n",
      "dtypes: float64(1), int64(8)\n",
      "memory usage: 6.1 MB\n"
     ]
    }
   ],
   "source": [
    "df_copy.info()\n",
    "# a coluna qtd_semanas_uso_pesticida tem muitos valores nulos"
   ]
  },
  {
   "cell_type": "code",
   "execution_count": 7,
   "metadata": {
    "colab": {
     "base_uri": "https://localhost:8080/"
    },
    "id": "Fv4OOUMJDLJe",
    "outputId": "7e10890b-0575-4027-afc7-3be7b3bdffdf"
   },
   "outputs": [
    {
     "data": {
      "text/plain": [
       "0    74238\n",
       "1    12307\n",
       "2     2313\n",
       "Name: dano_plantacao, dtype: int64"
      ]
     },
     "execution_count": 7,
     "metadata": {},
     "output_type": "execute_result"
    }
   ],
   "source": [
    "# Quantidade de plantacoes boa, media e ruim\n",
    "df_copy['dano_plantacao'].value_counts()"
   ]
  },
  {
   "cell_type": "code",
   "execution_count": 8,
   "metadata": {
    "colab": {
     "base_uri": "https://localhost:8080/",
     "height": 280
    },
    "id": "KbS3whkOQyWq",
    "outputId": "e595bf45-c2fb-4315-9c5c-61ca8abdee69"
   },
   "outputs": [
    {
     "data": {
      "image/png": "[encoded data removed]",
      "text/plain": [
       "<Figure size 432x288 with 1 Axes>"
      ]
     },
     "metadata": {
      "needs_background": "light"
     },
     "output_type": "display_data"
    }
   ],
   "source": [
    "sns.countplot(df_copy['tipo_plantacao']);"
   ]
  },
  {
   "cell_type": "code",
   "execution_count": 9,
   "metadata": {
    "colab": {
     "base_uri": "https://localhost:8080/",
     "height": 282
    },
    "id": "lvPl4-EVQ_sx",
    "outputId": "69896299-d04e-4005-e78c-3e1aa698cbeb"
   },
   "outputs": [
    {
     "data": {
      "image/png": "[encoded data removed]",
      "text/plain": [
       "<Figure size 432x288 with 1 Axes>"
      ]
     },
     "metadata": {
      "needs_background": "light"
     },
     "output_type": "display_data"
    }
   ],
   "source": [
    "sns.countplot(df_copy['tipo_solo']);"
   ]
  },
  {
   "cell_type": "code",
   "execution_count": 10,
   "metadata": {
    "colab": {
     "base_uri": "https://localhost:8080/",
     "height": 280
    },
    "id": "rW7lKmd1EeKf",
    "outputId": "f74dcd49-853f-48a1-a111-0a0a144282f7"
   },
   "outputs": [
    {
     "data": {
      "image/png": "[encoded data removed]",
      "text/plain": [
       "<Figure size 432x288 with 1 Axes>"
      ]
     },
     "metadata": {
      "needs_background": "light"
     },
     "output_type": "display_data"
    }
   ],
   "source": [
    "sns.countplot(df_copy['tipo_pesticida']);"
   ]
  },
  {
   "cell_type": "code",
   "execution_count": 11,
   "metadata": {
    "colab": {
     "base_uri": "https://localhost:8080/",
     "height": 280
    },
    "id": "W-B9Bh8aB9wE",
    "outputId": "86d3e9bf-cf4f-4d01-ceb5-4357a5766ba8"
   },
   "outputs": [
    {
     "data": {
      "image/png": "[encoded data removed]",
      "text/plain": [
       "<Figure size 432x288 with 1 Axes>"
      ]
     },
     "metadata": {
      "needs_background": "light"
     },
     "output_type": "display_data"
    }
   ],
   "source": [
    "sns.countplot(df_copy['dano_plantacao']);\n",
    "# 0 - Boa\n",
    "# 1 - Média\n",
    "# 2 - Ruim"
   ]
  },
  {
   "cell_type": "code",
   "execution_count": 12,
   "metadata": {
    "colab": {
     "base_uri": "https://localhost:8080/",
     "height": 279
    },
    "id": "XVPVo-h9D38o",
    "outputId": "a203d89c-6856-443d-80bb-1732c1070dac"
   },
   "outputs": [
    {
     "data": {
      "image/png": "[encoded data removed]",
      "text/plain": [
       "<Figure size 432x288 with 1 Axes>"
      ]
     },
     "metadata": {
      "needs_background": "light"
     },
     "output_type": "display_data"
    }
   ],
   "source": [
    "sns.countplot(df_copy['epoca_ano']);\n",
    "# 1 - Janeiro a Abril\n",
    "# 2 - Maio a Agosto\n",
    "# 3 - Setembro a Dezembro"
   ]
  },
  {
   "cell_type": "code",
   "execution_count": 13,
   "metadata": {
    "colab": {
     "base_uri": "https://localhost:8080/"
    },
    "id": "t67-s_rpFCGw",
    "outputId": "9644ee2e-54a1-48d3-fd7e-beac8cc754a9"
   },
   "outputs": [
    {
     "data": {
      "text/plain": [
       "numero_insetos                   0\n",
       "tipo_plantacao                   0\n",
       "tipo_solo                        0\n",
       "tipo_pesticida                   0\n",
       "qtd_doses_pesticida_semana       0\n",
       "qtd_semanas_uso_pesticida     9000\n",
       "qtd_semanas_quit                 0\n",
       "epoca_ano                        0\n",
       "dano_plantacao                   0\n",
       "dtype: int64"
      ]
     },
     "execution_count": 13,
     "metadata": {},
     "output_type": "execute_result"
    }
   ],
   "source": [
    "df_copy.isnull().sum()\n",
    "# a coluna qtd_semanas_uso_pesticida tem 9000 valores nulos"
   ]
  },
  {
   "cell_type": "code",
   "execution_count": 14,
   "metadata": {
    "id": "LgSomB_4Gm-k"
   },
   "outputs": [],
   "source": [
    "# Excluindo valores nulos\n",
    "df_copy.dropna(inplace=True)"
   ]
  },
  {
   "cell_type": "code",
   "execution_count": 15,
   "metadata": {
    "colab": {
     "base_uri": "https://localhost:8080/"
    },
    "id": "oSg0iQIwGtz8",
    "outputId": "cbc4d331-bf08-4330-f344-715237ff3eff"
   },
   "outputs": [
    {
     "data": {
      "text/plain": [
       "numero_insetos                0\n",
       "tipo_plantacao                0\n",
       "tipo_solo                     0\n",
       "tipo_pesticida                0\n",
       "qtd_doses_pesticida_semana    0\n",
       "qtd_semanas_uso_pesticida     0\n",
       "qtd_semanas_quit              0\n",
       "epoca_ano                     0\n",
       "dano_plantacao                0\n",
       "dtype: int64"
      ]
     },
     "execution_count": 15,
     "metadata": {},
     "output_type": "execute_result"
    }
   ],
   "source": [
    "df_copy.isnull().sum()"
   ]
  },
  {
   "cell_type": "code",
   "execution_count": 16,
   "metadata": {
    "colab": {
     "base_uri": "https://localhost:8080/"
    },
    "id": "xOnzjgtsGxES",
    "outputId": "e4690697-ee03-4470-a320-d2a311417979"
   },
   "outputs": [
    {
     "data": {
      "text/plain": [
       "623"
      ]
     },
     "execution_count": 16,
     "metadata": {},
     "output_type": "execute_result"
    }
   ],
   "source": [
    "df_copy.duplicated().sum()"
   ]
  },
  {
   "cell_type": "code",
   "execution_count": 17,
   "metadata": {
    "id": "qbJLecz_G2E0"
   },
   "outputs": [],
   "source": [
    "# Excluindo valores duplicados\n",
    "df_copy.drop_duplicates(inplace=True)"
   ]
  },
  {
   "cell_type": "code",
   "execution_count": 18,
   "metadata": {
    "colab": {
     "base_uri": "https://localhost:8080/"
    },
    "id": "SSeYiNUfG5us",
    "outputId": "677a0f27-8362-4462-b9e7-4f5d35f82ffa"
   },
   "outputs": [
    {
     "data": {
      "text/plain": [
       "0"
      ]
     },
     "execution_count": 18,
     "metadata": {},
     "output_type": "execute_result"
    }
   ],
   "source": [
    "df_copy.duplicated().sum()"
   ]
  },
  {
   "cell_type": "code",
   "execution_count": 19,
   "metadata": {
    "colab": {
     "base_uri": "https://localhost:8080/",
     "height": 280
    },
    "id": "sC57QlDvHVQt",
    "outputId": "f718c750-7348-43c1-f65a-758569f45172"
   },
   "outputs": [
    {
     "data": {
      "image/png": "[encoded data removed]",
      "text/plain": [
       "<Figure size 432x288 with 1 Axes>"
      ]
     },
     "metadata": {
      "needs_background": "light"
     },
     "output_type": "display_data"
    }
   ],
   "source": [
    "sns.boxplot(x=df_copy['numero_insetos']);\n",
    "# o numero medio de insetos ficou na casa dos 1200\n",
    "# retirar os outliers melhora o desempenho do algoritmo"
   ]
  },
  {
   "cell_type": "code",
   "execution_count": 20,
   "metadata": {
    "id": "LIx6SkmBInNR"
   },
   "outputs": [],
   "source": [
    "# Removendo os outliers\n",
    "q_menor = df_copy['numero_insetos'].quantile(0.01)\n",
    "q_maior = df_copy['numero_insetos'].quantile(0.99)\n",
    "df_copy = df_copy[(df_copy['numero_insetos'] < q_maior) & (df_copy['numero_insetos'] > q_menor)]"
   ]
  },
  {
   "cell_type": "code",
   "execution_count": 21,
   "metadata": {
    "colab": {
     "base_uri": "https://localhost:8080/",
     "height": 280
    },
    "id": "h93jwXibIoXO",
    "outputId": "35292d46-f25c-4496-b968-9aba4f4cbd96"
   },
   "outputs": [
    {
     "data": {
      "image/png": "[encoded data removed]",
      "text/plain": [
       "<Figure size 432x288 with 1 Axes>"
      ]
     },
     "metadata": {
      "needs_background": "light"
     },
     "output_type": "display_data"
    }
   ],
   "source": [
    "# outliers removidos\n",
    "sns.boxplot(x=df_copy['numero_insetos']);"
   ]
  },
  {
   "cell_type": "code",
   "execution_count": 22,
   "metadata": {
    "colab": {
     "base_uri": "https://localhost:8080/",
     "height": 204
    },
    "id": "5ddTRnegTqlM",
    "outputId": "3e4e66a7-ccb4-4473-b61c-394d3ec3d021"
   },
   "outputs": [
    {
     "data": {
      "text/html": [
       "<div>\n",
       "<style scoped>\n",
       "    .dataframe tbody tr th:only-of-type {\n",
       "        vertical-align: middle;\n",
       "    }\n",
       "\n",
       "    .dataframe tbody tr th {\n",
       "        vertical-align: top;\n",
       "    }\n",
       "\n",
       "    .dataframe thead th {\n",
       "        text-align: right;\n",
       "    }\n",
       "</style>\n",
       "<table border=\"1\" class=\"dataframe\">\n",
       "  <thead>\n",
       "    <tr style=\"text-align: right;\">\n",
       "      <th></th>\n",
       "      <th>numero_insetos</th>\n",
       "      <th>tipo_plantacao</th>\n",
       "      <th>tipo_solo</th>\n",
       "      <th>tipo_pesticida</th>\n",
       "      <th>qtd_doses_pesticida_semana</th>\n",
       "      <th>qtd_semanas_uso_pesticida</th>\n",
       "      <th>qtd_semanas_quit</th>\n",
       "      <th>epoca_ano</th>\n",
       "      <th>dano_plantacao</th>\n",
       "    </tr>\n",
       "  </thead>\n",
       "  <tbody>\n",
       "    <tr>\n",
       "      <th>1</th>\n",
       "      <td>209</td>\n",
       "      <td>1</td>\n",
       "      <td>0</td>\n",
       "      <td>1</td>\n",
       "      <td>0</td>\n",
       "      <td>0.0</td>\n",
       "      <td>0</td>\n",
       "      <td>2</td>\n",
       "      <td>1</td>\n",
       "    </tr>\n",
       "    <tr>\n",
       "      <th>2</th>\n",
       "      <td>257</td>\n",
       "      <td>1</td>\n",
       "      <td>0</td>\n",
       "      <td>1</td>\n",
       "      <td>0</td>\n",
       "      <td>0.0</td>\n",
       "      <td>0</td>\n",
       "      <td>2</td>\n",
       "      <td>1</td>\n",
       "    </tr>\n",
       "    <tr>\n",
       "      <th>3</th>\n",
       "      <td>257</td>\n",
       "      <td>1</td>\n",
       "      <td>1</td>\n",
       "      <td>1</td>\n",
       "      <td>0</td>\n",
       "      <td>0.0</td>\n",
       "      <td>0</td>\n",
       "      <td>2</td>\n",
       "      <td>1</td>\n",
       "    </tr>\n",
       "    <tr>\n",
       "      <th>4</th>\n",
       "      <td>342</td>\n",
       "      <td>1</td>\n",
       "      <td>0</td>\n",
       "      <td>1</td>\n",
       "      <td>0</td>\n",
       "      <td>0.0</td>\n",
       "      <td>0</td>\n",
       "      <td>2</td>\n",
       "      <td>1</td>\n",
       "    </tr>\n",
       "    <tr>\n",
       "      <th>7</th>\n",
       "      <td>577</td>\n",
       "      <td>1</td>\n",
       "      <td>0</td>\n",
       "      <td>1</td>\n",
       "      <td>0</td>\n",
       "      <td>0.0</td>\n",
       "      <td>0</td>\n",
       "      <td>1</td>\n",
       "      <td>2</td>\n",
       "    </tr>\n",
       "  </tbody>\n",
       "</table>\n",
       "</div>"
      ],
      "text/plain": [
       "   numero_insetos  tipo_plantacao  tipo_solo  tipo_pesticida  \\\n",
       "1             209               1          0               1   \n",
       "2             257               1          0               1   \n",
       "3             257               1          1               1   \n",
       "4             342               1          0               1   \n",
       "7             577               1          0               1   \n",
       "\n",
       "   qtd_doses_pesticida_semana  qtd_semanas_uso_pesticida  qtd_semanas_quit  \\\n",
       "1                           0                        0.0                 0   \n",
       "2                           0                        0.0                 0   \n",
       "3                           0                        0.0                 0   \n",
       "4                           0                        0.0                 0   \n",
       "7                           0                        0.0                 0   \n",
       "\n",
       "   epoca_ano  dano_plantacao  \n",
       "1          2               1  \n",
       "2          2               1  \n",
       "3          2               1  \n",
       "4          2               1  \n",
       "7          1               2  "
      ]
     },
     "execution_count": 22,
     "metadata": {},
     "output_type": "execute_result"
    }
   ],
   "source": [
    "df_copy.head()"
   ]
  },
  {
   "cell_type": "code",
   "execution_count": 23,
   "metadata": {
    "colab": {
     "base_uri": "https://localhost:8080/"
    },
    "id": "rysgLvsaTkRE",
    "outputId": "d3f5f051-607d-4d3e-bbe4-5d000bd30bc6"
   },
   "outputs": [
    {
     "data": {
      "text/plain": [
       "(76885, 8)"
      ]
     },
     "execution_count": 23,
     "metadata": {},
     "output_type": "execute_result"
    }
   ],
   "source": [
    "X = df_copy.iloc[:, 0:8].values\n",
    "X.shape"
   ]
  },
  {
   "cell_type": "code",
   "execution_count": 24,
   "metadata": {
    "colab": {
     "base_uri": "https://localhost:8080/"
    },
    "id": "8detVFyqUAt-",
    "outputId": "7d3e9c5b-5c56-4c23-ac2c-cee337e7252f"
   },
   "outputs": [
    {
     "data": {
      "text/plain": [
       "(76885,)"
      ]
     },
     "execution_count": 24,
     "metadata": {},
     "output_type": "execute_result"
    }
   ],
   "source": [
    "y = df_copy.iloc[:, 8].values\n",
    "y.shape"
   ]
  },
  {
   "cell_type": "code",
   "execution_count": 25,
   "metadata": {
    "id": "iligwO1um5Ro"
   },
   "outputs": [],
   "source": [
    "# Testes com os algoritmos KNN, Naive Bayes e Logistic Regression\n",
    "from sklearn.model_selection import train_test_split\n",
    "from sklearn.naive_bayes import GaussianNB\n",
    "from sklearn.neighbors import KNeighborsClassifier\n",
    "from sklearn.linear_model import LogisticRegression\n",
    "from sklearn.metrics import accuracy_score"
   ]
  },
  {
   "cell_type": "code",
   "execution_count": 26,
   "metadata": {
    "id": "NKsK72xmTdsa"
   },
   "outputs": [],
   "source": [
    "# Serão feitos 5 testes para cada algoritmo\n",
    "# A cada teste feito o seu accuracy vai ser armazenada na respectva lista do algoritmo\n",
    "# Ao final será obtiada a média da lista de cada algoritmo e essa média será reportada\n",
    "# test_size faz com que os dados sejam divididos em 80% para treino e 20% para teste\n",
    "# o random_state = i faz com que sejam selecionados valores diferentes a cada iteração\n",
    "# stratify faz a divisão proporcional y com base na quantidade de cada valor possível\n",
    "def treino_teste(x, y):\n",
    "    resultados_naive_b = []\n",
    "    resultados_knn = []\n",
    "    resultados_lr = []\n",
    "    for i in range(5):\n",
    "        X_treino, X_teste, y_treino, y_teste = train_test_split(x, y, test_size=0.2,\n",
    "                                                                stratify=y,\n",
    "                                                                random_state=i)\n",
    "        naive_b = GaussianNB()\n",
    "        naive_b.fit(X_treino, y_treino)\n",
    "        resultados_naive_b.append(accuracy_score(y_teste, naive_b.predict(X_teste)))\n",
    "\n",
    "        knn = KNeighborsClassifier()\n",
    "        knn.fit(X_treino, y_treino)\n",
    "        resultados_knn.append(accuracy_score(y_teste, knn.predict(X_teste)))\n",
    "        \n",
    "        logistic_r = LogisticRegression()\n",
    "        logistic_r.fit(X_treino, y_treino)\n",
    "        resultados_lr.append(accuracy_score(y_teste, logistic_r.predict(X_teste)))\n",
    "    resultados_naive_b = np.array(resultados_naive_b)\n",
    "    resultados_knn = np.array(resultados_knn)\n",
    "    resultados_lr = np.array(resultados_lr)\n",
    "    media_naive_b = resultados_naive_b.mean()\n",
    "    media_knn = resultados_knn.mean()\n",
    "    media_lr = resultados_lr.mean()\n",
    "    return media_naive_b, media_knn, media_lr, logistic_r"
   ]
  },
  {
   "cell_type": "code",
   "execution_count": 27,
   "metadata": {
    "id": "P7onXPr8Yf-6"
   },
   "outputs": [
    {
     "data": {
      "text/plain": [
       "(0.8245431488586851, 0.8276386811471678, 0.842010795343695)"
      ]
     },
     "execution_count": 27,
     "metadata": {},
     "output_type": "execute_result"
    }
   ],
   "source": [
    "media_naive_b, media_knn, media_lr, logistic_r = treino_teste(X, y)\n",
    "media_naive_b, media_knn, media_lr"
   ]
  },
  {
   "cell_type": "code",
   "execution_count": 28,
   "metadata": {},
   "outputs": [
    {
     "data": {
      "text/plain": [
       "['modelo_ml_colheitas.sav']"
      ]
     },
     "execution_count": 28,
     "metadata": {},
     "output_type": "execute_result"
    }
   ],
   "source": [
    "# salvando o modelo no disco\n",
    "import joblib\n",
    "modelo = 'modelo_ml_colheitas.sav'\n",
    "joblib.dump(logistic_r, modelo)"
   ]
  },
  {
   "cell_type": "code",
   "execution_count": 29,
   "metadata": {},
   "outputs": [],
   "source": [
    "def gera_grafico(media_naive_b, media_knn, media_lr):\n",
    "    medias_df = pd.DataFrame({'Algoritmos': ['Naive Bayes', 'KNN', 'Logistic Regression'],\n",
    "                             'Porcentagens': [round(media_naive_b*100, 1), round(media_knn*100, 1), round(media_lr*100, 1)]})\n",
    "    print(medias_df)\n",
    "    plt.grid()\n",
    "    ax = sns.barplot(x='Porcentagens', y='Algoritmos', data=medias_df)\n",
    "    ax.set_ylabel('Algoritmos')\n",
    "    plt.show()"
   ]
  },
  {
   "cell_type": "code",
   "execution_count": 30,
   "metadata": {},
   "outputs": [
    {
     "name": "stdout",
     "output_type": "stream",
     "text": [
      "            Algoritmos  Porcentagens\n",
      "0          Naive Bayes          82.5\n",
      "1                  KNN          82.8\n",
      "2  Logistic Regression          84.2\n"
     ]
    },
    {
     "data": {
      "image/png": "[encoded data removed]",
      "text/plain": [
       "<Figure size 432x288 with 1 Axes>"
      ]
     },
     "metadata": {
      "needs_background": "light"
     },
     "output_type": "display_data"
    }
   ],
   "source": [
    "gera_grafico(media_naive_b, media_knn, media_lr)"
   ]
  },
  {
   "cell_type": "markdown",
   "metadata": {
    "id": "PirfHJ-0ZKm9"
   },
   "source": [
    "Próximos passos:\n",
    "\n",
    "*   Subamostragem e Sobreamostragem\n",
    "*   Seleção de atributos mais eficazes com Qui quadrado\n",
    "*   One-hot encoder\n",
    "*   Utilizar cross validation em vez de train test split\n"
   ]
  },
  {
   "cell_type": "markdown",
   "metadata": {
    "id": "9bfiXqK3WBC4"
   },
   "source": [
    "## Subamostragem"
   ]
  },
  {
   "cell_type": "code",
   "execution_count": 31,
   "metadata": {
    "id": "_MWd0B2DYzip"
   },
   "outputs": [],
   "source": [
    "from imblearn.under_sampling import TomekLinks"
   ]
  },
  {
   "cell_type": "code",
   "execution_count": 32,
   "metadata": {
    "id": "W7-dHsSCWQNC"
   },
   "outputs": [],
   "source": [
    "tl = TomekLinks()\n",
    "X_under, y_under = tl.fit_sample(X, y)"
   ]
  },
  {
   "cell_type": "code",
   "execution_count": 33,
   "metadata": {
    "colab": {
     "base_uri": "https://localhost:8080/"
    },
    "id": "Qnf8ZDpbW7eN",
    "outputId": "df5d9e3c-95b8-4dcc-c472-9e7acee059f4"
   },
   "outputs": [
    {
     "data": {
      "text/plain": [
       "((69561, 8), (69561,))"
      ]
     },
     "execution_count": 33,
     "metadata": {},
     "output_type": "execute_result"
    }
   ],
   "source": [
    "X_under.shape, y_under.shape"
   ]
  },
  {
   "cell_type": "code",
   "execution_count": 34,
   "metadata": {},
   "outputs": [
    {
     "data": {
      "text/plain": [
       "(0.8603033134478546, 0.8712570976784303, 0.8772946165456768)"
      ]
     },
     "execution_count": 34,
     "metadata": {},
     "output_type": "execute_result"
    }
   ],
   "source": [
    "media_naive_b, media_knn, media_lr, logistic_r = treino_teste(X_under, y_under)\n",
    "media_naive_b, media_knn, media_lr"
   ]
  },
  {
   "cell_type": "code",
   "execution_count": 35,
   "metadata": {},
   "outputs": [
    {
     "name": "stdout",
     "output_type": "stream",
     "text": [
      "            Algoritmos  Porcentagens\n",
      "0          Naive Bayes          86.0\n",
      "1                  KNN          87.1\n",
      "2  Logistic Regression          87.7\n"
     ]
    },
    {
     "data": {
      "image/png": "[encoded data removed]",
      "text/plain": [
       "<Figure size 432x288 with 1 Axes>"
      ]
     },
     "metadata": {
      "needs_background": "light"
     },
     "output_type": "display_data"
    }
   ],
   "source": [
    "gera_grafico(media_naive_b, media_knn, media_lr)"
   ]
  },
  {
   "cell_type": "code",
   "execution_count": 36,
   "metadata": {},
   "outputs": [
    {
     "data": {
      "text/plain": [
       "['modelo_ml_colheitas.sav']"
      ]
     },
     "execution_count": 36,
     "metadata": {},
     "output_type": "execute_result"
    }
   ],
   "source": [
    "modelo = 'modelo_ml_colheitas.sav'\n",
    "joblib.dump(logistic_r, modelo)"
   ]
  },
  {
   "cell_type": "markdown",
   "metadata": {
    "id": "pGCrr9VvXuH9"
   },
   "source": [
    "## Sobreamostragem"
   ]
  },
  {
   "cell_type": "code",
   "execution_count": 37,
   "metadata": {
    "id": "4KknfmZZXrdb"
   },
   "outputs": [],
   "source": [
    "from imblearn.over_sampling import SMOTE"
   ]
  },
  {
   "cell_type": "code",
   "execution_count": 38,
   "metadata": {
    "id": "vp_s4xZ7X9i6"
   },
   "outputs": [],
   "source": [
    "smote = SMOTE()\n",
    "X_over, y_over = smote.fit_sample(X, y)"
   ]
  },
  {
   "cell_type": "code",
   "execution_count": 39,
   "metadata": {
    "colab": {
     "base_uri": "https://localhost:8080/"
    },
    "id": "GvtIdUttYLjK",
    "outputId": "a3880a26-f1c1-4128-9fbf-f2fbc088621c"
   },
   "outputs": [
    {
     "data": {
      "text/plain": [
       "((194580, 8), (194580,))"
      ]
     },
     "execution_count": 39,
     "metadata": {},
     "output_type": "execute_result"
    }
   ],
   "source": [
    "X_over.shape, y_over.shape"
   ]
  },
  {
   "cell_type": "code",
   "execution_count": 41,
   "metadata": {},
   "outputs": [
    {
     "data": {
      "text/plain": [
       "(0.5178538390379278, 0.8102836879432624, 0.5031606537156954)"
      ]
     },
     "execution_count": 41,
     "metadata": {},
     "output_type": "execute_result"
    }
   ],
   "source": [
    "media_naive_b, media_knn, media_lr, modelo_teste = treino_teste(X_over, y_over)\n",
    "media_naive_b, media_knn, media_lr"
   ]
  },
  {
   "cell_type": "code",
   "execution_count": 42,
   "metadata": {},
   "outputs": [
    {
     "name": "stdout",
     "output_type": "stream",
     "text": [
      "            Algoritmos  Porcentagens\n",
      "0          Naive Bayes          51.8\n",
      "1                  KNN          81.0\n",
      "2  Logistic Regression          50.3\n"
     ]
    },
    {
     "data": {
      "image/png": "[encoded data removed]",
      "text/plain": [
       "<Figure size 432x288 with 1 Axes>"
      ]
     },
     "metadata": {
      "needs_background": "light"
     },
     "output_type": "display_data"
    }
   ],
   "source": [
    "gera_grafico(media_naive_b, media_knn, media_lr)"
   ]
  },
  {
   "cell_type": "markdown",
   "metadata": {
    "id": "GoSgk-GalTlC"
   },
   "source": [
    "## Seleção de atributos com Qui Quadrado"
   ]
  },
  {
   "cell_type": "code",
   "execution_count": 43,
   "metadata": {
    "id": "te3Tzcmjk7_6"
   },
   "outputs": [
    {
     "data": {
      "text/html": [
       "<div>\n",
       "<style scoped>\n",
       "    .dataframe tbody tr th:only-of-type {\n",
       "        vertical-align: middle;\n",
       "    }\n",
       "\n",
       "    .dataframe tbody tr th {\n",
       "        vertical-align: top;\n",
       "    }\n",
       "\n",
       "    .dataframe thead th {\n",
       "        text-align: right;\n",
       "    }\n",
       "</style>\n",
       "<table border=\"1\" class=\"dataframe\">\n",
       "  <thead>\n",
       "    <tr style=\"text-align: right;\">\n",
       "      <th></th>\n",
       "      <th>numero_insetos</th>\n",
       "      <th>tipo_plantacao</th>\n",
       "      <th>tipo_solo</th>\n",
       "      <th>tipo_pesticida</th>\n",
       "      <th>qtd_doses_pesticida_semana</th>\n",
       "      <th>qtd_semanas_uso_pesticida</th>\n",
       "      <th>qtd_semanas_quit</th>\n",
       "      <th>epoca_ano</th>\n",
       "      <th>dano_plantacao</th>\n",
       "    </tr>\n",
       "  </thead>\n",
       "  <tbody>\n",
       "    <tr>\n",
       "      <th>1</th>\n",
       "      <td>209</td>\n",
       "      <td>1</td>\n",
       "      <td>0</td>\n",
       "      <td>1</td>\n",
       "      <td>0</td>\n",
       "      <td>0.0</td>\n",
       "      <td>0</td>\n",
       "      <td>2</td>\n",
       "      <td>1</td>\n",
       "    </tr>\n",
       "    <tr>\n",
       "      <th>2</th>\n",
       "      <td>257</td>\n",
       "      <td>1</td>\n",
       "      <td>0</td>\n",
       "      <td>1</td>\n",
       "      <td>0</td>\n",
       "      <td>0.0</td>\n",
       "      <td>0</td>\n",
       "      <td>2</td>\n",
       "      <td>1</td>\n",
       "    </tr>\n",
       "    <tr>\n",
       "      <th>3</th>\n",
       "      <td>257</td>\n",
       "      <td>1</td>\n",
       "      <td>1</td>\n",
       "      <td>1</td>\n",
       "      <td>0</td>\n",
       "      <td>0.0</td>\n",
       "      <td>0</td>\n",
       "      <td>2</td>\n",
       "      <td>1</td>\n",
       "    </tr>\n",
       "    <tr>\n",
       "      <th>4</th>\n",
       "      <td>342</td>\n",
       "      <td>1</td>\n",
       "      <td>0</td>\n",
       "      <td>1</td>\n",
       "      <td>0</td>\n",
       "      <td>0.0</td>\n",
       "      <td>0</td>\n",
       "      <td>2</td>\n",
       "      <td>1</td>\n",
       "    </tr>\n",
       "    <tr>\n",
       "      <th>7</th>\n",
       "      <td>577</td>\n",
       "      <td>1</td>\n",
       "      <td>0</td>\n",
       "      <td>1</td>\n",
       "      <td>0</td>\n",
       "      <td>0.0</td>\n",
       "      <td>0</td>\n",
       "      <td>1</td>\n",
       "      <td>2</td>\n",
       "    </tr>\n",
       "  </tbody>\n",
       "</table>\n",
       "</div>"
      ],
      "text/plain": [
       "   numero_insetos  tipo_plantacao  tipo_solo  tipo_pesticida  \\\n",
       "1             209               1          0               1   \n",
       "2             257               1          0               1   \n",
       "3             257               1          1               1   \n",
       "4             342               1          0               1   \n",
       "7             577               1          0               1   \n",
       "\n",
       "   qtd_doses_pesticida_semana  qtd_semanas_uso_pesticida  qtd_semanas_quit  \\\n",
       "1                           0                        0.0                 0   \n",
       "2                           0                        0.0                 0   \n",
       "3                           0                        0.0                 0   \n",
       "4                           0                        0.0                 0   \n",
       "7                           0                        0.0                 0   \n",
       "\n",
       "   epoca_ano  dano_plantacao  \n",
       "1          2               1  \n",
       "2          2               1  \n",
       "3          2               1  \n",
       "4          2               1  \n",
       "7          1               2  "
      ]
     },
     "execution_count": 43,
     "metadata": {},
     "output_type": "execute_result"
    }
   ],
   "source": [
    "df_copy.head()"
   ]
  },
  {
   "cell_type": "code",
   "execution_count": 44,
   "metadata": {},
   "outputs": [
    {
     "data": {
      "text/plain": [
       "<matplotlib.axes._subplots.AxesSubplot at 0x1a1e2d0b90>"
      ]
     },
     "execution_count": 44,
     "metadata": {},
     "output_type": "execute_result"
    },
    {
     "data": {
      "image/png": "[encoded data removed]",
      "text/plain": [
       "<Figure size 720x576 with 2 Axes>"
      ]
     },
     "metadata": {
      "needs_background": "light"
     },
     "output_type": "display_data"
    }
   ],
   "source": [
    "plt.figure(figsize=(10,8))\n",
    "sns.heatmap(df_copy.corr(), annot=True, cmap='Blues')"
   ]
  },
  {
   "cell_type": "code",
   "execution_count": 45,
   "metadata": {},
   "outputs": [],
   "source": [
    "from sklearn.feature_selection import SelectFdr\n",
    "from sklearn.feature_selection import chi2"
   ]
  },
  {
   "cell_type": "code",
   "execution_count": 46,
   "metadata": {},
   "outputs": [],
   "source": [
    "selecao = SelectFdr(chi2, alpha=0.01)\n",
    "X_novo_u = selecao.fit_transform(X_under, y_under)"
   ]
  },
  {
   "cell_type": "code",
   "execution_count": 142,
   "metadata": {},
   "outputs": [
    {
     "data": {
      "text/plain": [
       "((69561, 8), (69561, 7))"
      ]
     },
     "execution_count": 142,
     "metadata": {},
     "output_type": "execute_result"
    }
   ],
   "source": [
    "X_under.shape, X_novo_u.shape"
   ]
  },
  {
   "cell_type": "code",
   "execution_count": 48,
   "metadata": {},
   "outputs": [
    {
     "data": {
      "text/plain": [
       "(0.8603033134478546, 0.8717170991159348, 0.8768058650183281)"
      ]
     },
     "execution_count": 48,
     "metadata": {},
     "output_type": "execute_result"
    }
   ],
   "source": [
    "media_naive_b, media_knn, media_lr, modelo_teste = treino_teste(X_novo_u, y_under)\n",
    "media_naive_b, media_knn, media_lr"
   ]
  },
  {
   "cell_type": "code",
   "execution_count": 49,
   "metadata": {},
   "outputs": [
    {
     "name": "stdout",
     "output_type": "stream",
     "text": [
      "            Algoritmos  Porcentagens\n",
      "0          Naive Bayes          86.0\n",
      "1                  KNN          87.2\n",
      "2  Logistic Regression          87.7\n"
     ]
    },
    {
     "data": {
      "image/png": "[encoded data removed]",
      "text/plain": [
       "<Figure size 432x288 with 1 Axes>"
      ]
     },
     "metadata": {
      "needs_background": "light"
     },
     "output_type": "display_data"
    }
   ],
   "source": [
    "gera_grafico(media_naive_b, media_knn, media_lr)"
   ]
  },
  {
   "cell_type": "markdown",
   "metadata": {},
   "source": [
    "## One-hot encoder"
   ]
  },
  {
   "cell_type": "code",
   "execution_count": 50,
   "metadata": {},
   "outputs": [
    {
     "data": {
      "text/html": [
       "<div>\n",
       "<style scoped>\n",
       "    .dataframe tbody tr th:only-of-type {\n",
       "        vertical-align: middle;\n",
       "    }\n",
       "\n",
       "    .dataframe tbody tr th {\n",
       "        vertical-align: top;\n",
       "    }\n",
       "\n",
       "    .dataframe thead th {\n",
       "        text-align: right;\n",
       "    }\n",
       "</style>\n",
       "<table border=\"1\" class=\"dataframe\">\n",
       "  <thead>\n",
       "    <tr style=\"text-align: right;\">\n",
       "      <th></th>\n",
       "      <th>numero_insetos</th>\n",
       "      <th>tipo_plantacao</th>\n",
       "      <th>tipo_solo</th>\n",
       "      <th>tipo_pesticida</th>\n",
       "      <th>qtd_doses_pesticida_semana</th>\n",
       "      <th>qtd_semanas_uso_pesticida</th>\n",
       "      <th>qtd_semanas_quit</th>\n",
       "      <th>epoca_ano</th>\n",
       "      <th>dano_plantacao</th>\n",
       "    </tr>\n",
       "  </thead>\n",
       "  <tbody>\n",
       "    <tr>\n",
       "      <th>1</th>\n",
       "      <td>209</td>\n",
       "      <td>1</td>\n",
       "      <td>0</td>\n",
       "      <td>1</td>\n",
       "      <td>0</td>\n",
       "      <td>0.0</td>\n",
       "      <td>0</td>\n",
       "      <td>2</td>\n",
       "      <td>1</td>\n",
       "    </tr>\n",
       "    <tr>\n",
       "      <th>2</th>\n",
       "      <td>257</td>\n",
       "      <td>1</td>\n",
       "      <td>0</td>\n",
       "      <td>1</td>\n",
       "      <td>0</td>\n",
       "      <td>0.0</td>\n",
       "      <td>0</td>\n",
       "      <td>2</td>\n",
       "      <td>1</td>\n",
       "    </tr>\n",
       "    <tr>\n",
       "      <th>3</th>\n",
       "      <td>257</td>\n",
       "      <td>1</td>\n",
       "      <td>1</td>\n",
       "      <td>1</td>\n",
       "      <td>0</td>\n",
       "      <td>0.0</td>\n",
       "      <td>0</td>\n",
       "      <td>2</td>\n",
       "      <td>1</td>\n",
       "    </tr>\n",
       "    <tr>\n",
       "      <th>4</th>\n",
       "      <td>342</td>\n",
       "      <td>1</td>\n",
       "      <td>0</td>\n",
       "      <td>1</td>\n",
       "      <td>0</td>\n",
       "      <td>0.0</td>\n",
       "      <td>0</td>\n",
       "      <td>2</td>\n",
       "      <td>1</td>\n",
       "    </tr>\n",
       "    <tr>\n",
       "      <th>7</th>\n",
       "      <td>577</td>\n",
       "      <td>1</td>\n",
       "      <td>0</td>\n",
       "      <td>1</td>\n",
       "      <td>0</td>\n",
       "      <td>0.0</td>\n",
       "      <td>0</td>\n",
       "      <td>1</td>\n",
       "      <td>2</td>\n",
       "    </tr>\n",
       "  </tbody>\n",
       "</table>\n",
       "</div>"
      ],
      "text/plain": [
       "   numero_insetos  tipo_plantacao  tipo_solo  tipo_pesticida  \\\n",
       "1             209               1          0               1   \n",
       "2             257               1          0               1   \n",
       "3             257               1          1               1   \n",
       "4             342               1          0               1   \n",
       "7             577               1          0               1   \n",
       "\n",
       "   qtd_doses_pesticida_semana  qtd_semanas_uso_pesticida  qtd_semanas_quit  \\\n",
       "1                           0                        0.0                 0   \n",
       "2                           0                        0.0                 0   \n",
       "3                           0                        0.0                 0   \n",
       "4                           0                        0.0                 0   \n",
       "7                           0                        0.0                 0   \n",
       "\n",
       "   epoca_ano  dano_plantacao  \n",
       "1          2               1  \n",
       "2          2               1  \n",
       "3          2               1  \n",
       "4          2               1  \n",
       "7          1               2  "
      ]
     },
     "execution_count": 50,
     "metadata": {},
     "output_type": "execute_result"
    }
   ],
   "source": [
    "df_copy.head()"
   ]
  },
  {
   "cell_type": "code",
   "execution_count": 51,
   "metadata": {},
   "outputs": [],
   "source": [
    "for col in ['tipo_plantacao', 'tipo_solo', 'tipo_pesticida', 'epoca_ano']:\n",
    "    df_copy = pd.get_dummies(df_copy, columns=[col])"
   ]
  },
  {
   "cell_type": "code",
   "execution_count": 52,
   "metadata": {},
   "outputs": [
    {
     "data": {
      "text/html": [
       "<div>\n",
       "<style scoped>\n",
       "    .dataframe tbody tr th:only-of-type {\n",
       "        vertical-align: middle;\n",
       "    }\n",
       "\n",
       "    .dataframe tbody tr th {\n",
       "        vertical-align: top;\n",
       "    }\n",
       "\n",
       "    .dataframe thead th {\n",
       "        text-align: right;\n",
       "    }\n",
       "</style>\n",
       "<table border=\"1\" class=\"dataframe\">\n",
       "  <thead>\n",
       "    <tr style=\"text-align: right;\">\n",
       "      <th></th>\n",
       "      <th>numero_insetos</th>\n",
       "      <th>qtd_doses_pesticida_semana</th>\n",
       "      <th>qtd_semanas_uso_pesticida</th>\n",
       "      <th>qtd_semanas_quit</th>\n",
       "      <th>dano_plantacao</th>\n",
       "      <th>tipo_plantacao_0</th>\n",
       "      <th>tipo_plantacao_1</th>\n",
       "      <th>tipo_solo_0</th>\n",
       "      <th>tipo_solo_1</th>\n",
       "      <th>tipo_pesticida_1</th>\n",
       "      <th>tipo_pesticida_2</th>\n",
       "      <th>tipo_pesticida_3</th>\n",
       "      <th>epoca_ano_1</th>\n",
       "      <th>epoca_ano_2</th>\n",
       "      <th>epoca_ano_3</th>\n",
       "    </tr>\n",
       "  </thead>\n",
       "  <tbody>\n",
       "    <tr>\n",
       "      <th>1</th>\n",
       "      <td>209</td>\n",
       "      <td>0</td>\n",
       "      <td>0.0</td>\n",
       "      <td>0</td>\n",
       "      <td>1</td>\n",
       "      <td>0</td>\n",
       "      <td>1</td>\n",
       "      <td>1</td>\n",
       "      <td>0</td>\n",
       "      <td>1</td>\n",
       "      <td>0</td>\n",
       "      <td>0</td>\n",
       "      <td>0</td>\n",
       "      <td>1</td>\n",
       "      <td>0</td>\n",
       "    </tr>\n",
       "    <tr>\n",
       "      <th>2</th>\n",
       "      <td>257</td>\n",
       "      <td>0</td>\n",
       "      <td>0.0</td>\n",
       "      <td>0</td>\n",
       "      <td>1</td>\n",
       "      <td>0</td>\n",
       "      <td>1</td>\n",
       "      <td>1</td>\n",
       "      <td>0</td>\n",
       "      <td>1</td>\n",
       "      <td>0</td>\n",
       "      <td>0</td>\n",
       "      <td>0</td>\n",
       "      <td>1</td>\n",
       "      <td>0</td>\n",
       "    </tr>\n",
       "    <tr>\n",
       "      <th>3</th>\n",
       "      <td>257</td>\n",
       "      <td>0</td>\n",
       "      <td>0.0</td>\n",
       "      <td>0</td>\n",
       "      <td>1</td>\n",
       "      <td>0</td>\n",
       "      <td>1</td>\n",
       "      <td>0</td>\n",
       "      <td>1</td>\n",
       "      <td>1</td>\n",
       "      <td>0</td>\n",
       "      <td>0</td>\n",
       "      <td>0</td>\n",
       "      <td>1</td>\n",
       "      <td>0</td>\n",
       "    </tr>\n",
       "    <tr>\n",
       "      <th>4</th>\n",
       "      <td>342</td>\n",
       "      <td>0</td>\n",
       "      <td>0.0</td>\n",
       "      <td>0</td>\n",
       "      <td>1</td>\n",
       "      <td>0</td>\n",
       "      <td>1</td>\n",
       "      <td>1</td>\n",
       "      <td>0</td>\n",
       "      <td>1</td>\n",
       "      <td>0</td>\n",
       "      <td>0</td>\n",
       "      <td>0</td>\n",
       "      <td>1</td>\n",
       "      <td>0</td>\n",
       "    </tr>\n",
       "    <tr>\n",
       "      <th>7</th>\n",
       "      <td>577</td>\n",
       "      <td>0</td>\n",
       "      <td>0.0</td>\n",
       "      <td>0</td>\n",
       "      <td>2</td>\n",
       "      <td>0</td>\n",
       "      <td>1</td>\n",
       "      <td>1</td>\n",
       "      <td>0</td>\n",
       "      <td>1</td>\n",
       "      <td>0</td>\n",
       "      <td>0</td>\n",
       "      <td>1</td>\n",
       "      <td>0</td>\n",
       "      <td>0</td>\n",
       "    </tr>\n",
       "  </tbody>\n",
       "</table>\n",
       "</div>"
      ],
      "text/plain": [
       "   numero_insetos  qtd_doses_pesticida_semana  qtd_semanas_uso_pesticida  \\\n",
       "1             209                           0                        0.0   \n",
       "2             257                           0                        0.0   \n",
       "3             257                           0                        0.0   \n",
       "4             342                           0                        0.0   \n",
       "7             577                           0                        0.0   \n",
       "\n",
       "   qtd_semanas_quit  dano_plantacao  tipo_plantacao_0  tipo_plantacao_1  \\\n",
       "1                 0               1                 0                 1   \n",
       "2                 0               1                 0                 1   \n",
       "3                 0               1                 0                 1   \n",
       "4                 0               1                 0                 1   \n",
       "7                 0               2                 0                 1   \n",
       "\n",
       "   tipo_solo_0  tipo_solo_1  tipo_pesticida_1  tipo_pesticida_2  \\\n",
       "1            1            0                 1                 0   \n",
       "2            1            0                 1                 0   \n",
       "3            0            1                 1                 0   \n",
       "4            1            0                 1                 0   \n",
       "7            1            0                 1                 0   \n",
       "\n",
       "   tipo_pesticida_3  epoca_ano_1  epoca_ano_2  epoca_ano_3  \n",
       "1                 0            0            1            0  \n",
       "2                 0            0            1            0  \n",
       "3                 0            0            1            0  \n",
       "4                 0            0            1            0  \n",
       "7                 0            1            0            0  "
      ]
     },
     "execution_count": 52,
     "metadata": {},
     "output_type": "execute_result"
    }
   ],
   "source": [
    "df_copy.head()"
   ]
  },
  {
   "cell_type": "code",
   "execution_count": 53,
   "metadata": {},
   "outputs": [
    {
     "data": {
      "text/plain": [
       "(76885, 15)"
      ]
     },
     "execution_count": 53,
     "metadata": {},
     "output_type": "execute_result"
    }
   ],
   "source": [
    "df_copy.shape"
   ]
  },
  {
   "cell_type": "code",
   "execution_count": 54,
   "metadata": {},
   "outputs": [],
   "source": [
    "X = df_copy.drop(['dano_plantacao'], axis=1)\n",
    "y = df_copy['dano_plantacao'].values.reshape(-1,1)"
   ]
  },
  {
   "cell_type": "code",
   "execution_count": 55,
   "metadata": {},
   "outputs": [
    {
     "data": {
      "text/html": [
       "<div>\n",
       "<style scoped>\n",
       "    .dataframe tbody tr th:only-of-type {\n",
       "        vertical-align: middle;\n",
       "    }\n",
       "\n",
       "    .dataframe tbody tr th {\n",
       "        vertical-align: top;\n",
       "    }\n",
       "\n",
       "    .dataframe thead th {\n",
       "        text-align: right;\n",
       "    }\n",
       "</style>\n",
       "<table border=\"1\" class=\"dataframe\">\n",
       "  <thead>\n",
       "    <tr style=\"text-align: right;\">\n",
       "      <th></th>\n",
       "      <th>numero_insetos</th>\n",
       "      <th>qtd_doses_pesticida_semana</th>\n",
       "      <th>qtd_semanas_uso_pesticida</th>\n",
       "      <th>qtd_semanas_quit</th>\n",
       "      <th>tipo_plantacao_0</th>\n",
       "      <th>tipo_plantacao_1</th>\n",
       "      <th>tipo_solo_0</th>\n",
       "      <th>tipo_solo_1</th>\n",
       "      <th>tipo_pesticida_1</th>\n",
       "      <th>tipo_pesticida_2</th>\n",
       "      <th>tipo_pesticida_3</th>\n",
       "      <th>epoca_ano_1</th>\n",
       "      <th>epoca_ano_2</th>\n",
       "      <th>epoca_ano_3</th>\n",
       "    </tr>\n",
       "  </thead>\n",
       "  <tbody>\n",
       "    <tr>\n",
       "      <th>1</th>\n",
       "      <td>209</td>\n",
       "      <td>0</td>\n",
       "      <td>0.0</td>\n",
       "      <td>0</td>\n",
       "      <td>0</td>\n",
       "      <td>1</td>\n",
       "      <td>1</td>\n",
       "      <td>0</td>\n",
       "      <td>1</td>\n",
       "      <td>0</td>\n",
       "      <td>0</td>\n",
       "      <td>0</td>\n",
       "      <td>1</td>\n",
       "      <td>0</td>\n",
       "    </tr>\n",
       "    <tr>\n",
       "      <th>2</th>\n",
       "      <td>257</td>\n",
       "      <td>0</td>\n",
       "      <td>0.0</td>\n",
       "      <td>0</td>\n",
       "      <td>0</td>\n",
       "      <td>1</td>\n",
       "      <td>1</td>\n",
       "      <td>0</td>\n",
       "      <td>1</td>\n",
       "      <td>0</td>\n",
       "      <td>0</td>\n",
       "      <td>0</td>\n",
       "      <td>1</td>\n",
       "      <td>0</td>\n",
       "    </tr>\n",
       "    <tr>\n",
       "      <th>3</th>\n",
       "      <td>257</td>\n",
       "      <td>0</td>\n",
       "      <td>0.0</td>\n",
       "      <td>0</td>\n",
       "      <td>0</td>\n",
       "      <td>1</td>\n",
       "      <td>0</td>\n",
       "      <td>1</td>\n",
       "      <td>1</td>\n",
       "      <td>0</td>\n",
       "      <td>0</td>\n",
       "      <td>0</td>\n",
       "      <td>1</td>\n",
       "      <td>0</td>\n",
       "    </tr>\n",
       "    <tr>\n",
       "      <th>4</th>\n",
       "      <td>342</td>\n",
       "      <td>0</td>\n",
       "      <td>0.0</td>\n",
       "      <td>0</td>\n",
       "      <td>0</td>\n",
       "      <td>1</td>\n",
       "      <td>1</td>\n",
       "      <td>0</td>\n",
       "      <td>1</td>\n",
       "      <td>0</td>\n",
       "      <td>0</td>\n",
       "      <td>0</td>\n",
       "      <td>1</td>\n",
       "      <td>0</td>\n",
       "    </tr>\n",
       "    <tr>\n",
       "      <th>7</th>\n",
       "      <td>577</td>\n",
       "      <td>0</td>\n",
       "      <td>0.0</td>\n",
       "      <td>0</td>\n",
       "      <td>0</td>\n",
       "      <td>1</td>\n",
       "      <td>1</td>\n",
       "      <td>0</td>\n",
       "      <td>1</td>\n",
       "      <td>0</td>\n",
       "      <td>0</td>\n",
       "      <td>1</td>\n",
       "      <td>0</td>\n",
       "      <td>0</td>\n",
       "    </tr>\n",
       "    <tr>\n",
       "      <th>...</th>\n",
       "      <td>...</td>\n",
       "      <td>...</td>\n",
       "      <td>...</td>\n",
       "      <td>...</td>\n",
       "      <td>...</td>\n",
       "      <td>...</td>\n",
       "      <td>...</td>\n",
       "      <td>...</td>\n",
       "      <td>...</td>\n",
       "      <td>...</td>\n",
       "      <td>...</td>\n",
       "      <td>...</td>\n",
       "      <td>...</td>\n",
       "      <td>...</td>\n",
       "    </tr>\n",
       "    <tr>\n",
       "      <th>88851</th>\n",
       "      <td>3164</td>\n",
       "      <td>10</td>\n",
       "      <td>11.0</td>\n",
       "      <td>36</td>\n",
       "      <td>0</td>\n",
       "      <td>1</td>\n",
       "      <td>1</td>\n",
       "      <td>0</td>\n",
       "      <td>0</td>\n",
       "      <td>1</td>\n",
       "      <td>0</td>\n",
       "      <td>1</td>\n",
       "      <td>0</td>\n",
       "      <td>0</td>\n",
       "    </tr>\n",
       "    <tr>\n",
       "      <th>88852</th>\n",
       "      <td>3165</td>\n",
       "      <td>60</td>\n",
       "      <td>44.0</td>\n",
       "      <td>15</td>\n",
       "      <td>0</td>\n",
       "      <td>1</td>\n",
       "      <td>1</td>\n",
       "      <td>0</td>\n",
       "      <td>0</td>\n",
       "      <td>1</td>\n",
       "      <td>0</td>\n",
       "      <td>0</td>\n",
       "      <td>1</td>\n",
       "      <td>0</td>\n",
       "    </tr>\n",
       "    <tr>\n",
       "      <th>88853</th>\n",
       "      <td>3337</td>\n",
       "      <td>10</td>\n",
       "      <td>12.0</td>\n",
       "      <td>44</td>\n",
       "      <td>0</td>\n",
       "      <td>1</td>\n",
       "      <td>1</td>\n",
       "      <td>0</td>\n",
       "      <td>0</td>\n",
       "      <td>1</td>\n",
       "      <td>0</td>\n",
       "      <td>0</td>\n",
       "      <td>0</td>\n",
       "      <td>1</td>\n",
       "    </tr>\n",
       "    <tr>\n",
       "      <th>88854</th>\n",
       "      <td>3516</td>\n",
       "      <td>10</td>\n",
       "      <td>20.0</td>\n",
       "      <td>38</td>\n",
       "      <td>0</td>\n",
       "      <td>1</td>\n",
       "      <td>1</td>\n",
       "      <td>0</td>\n",
       "      <td>0</td>\n",
       "      <td>1</td>\n",
       "      <td>0</td>\n",
       "      <td>1</td>\n",
       "      <td>0</td>\n",
       "      <td>0</td>\n",
       "    </tr>\n",
       "    <tr>\n",
       "      <th>88855</th>\n",
       "      <td>3516</td>\n",
       "      <td>15</td>\n",
       "      <td>40.0</td>\n",
       "      <td>8</td>\n",
       "      <td>0</td>\n",
       "      <td>1</td>\n",
       "      <td>1</td>\n",
       "      <td>0</td>\n",
       "      <td>0</td>\n",
       "      <td>1</td>\n",
       "      <td>0</td>\n",
       "      <td>0</td>\n",
       "      <td>1</td>\n",
       "      <td>0</td>\n",
       "    </tr>\n",
       "  </tbody>\n",
       "</table>\n",
       "<p>76885 rows × 14 columns</p>\n",
       "</div>"
      ],
      "text/plain": [
       "       numero_insetos  qtd_doses_pesticida_semana  qtd_semanas_uso_pesticida  \\\n",
       "1                 209                           0                        0.0   \n",
       "2                 257                           0                        0.0   \n",
       "3                 257                           0                        0.0   \n",
       "4                 342                           0                        0.0   \n",
       "7                 577                           0                        0.0   \n",
       "...               ...                         ...                        ...   \n",
       "88851            3164                          10                       11.0   \n",
       "88852            3165                          60                       44.0   \n",
       "88853            3337                          10                       12.0   \n",
       "88854            3516                          10                       20.0   \n",
       "88855            3516                          15                       40.0   \n",
       "\n",
       "       qtd_semanas_quit  tipo_plantacao_0  tipo_plantacao_1  tipo_solo_0  \\\n",
       "1                     0                 0                 1            1   \n",
       "2                     0                 0                 1            1   \n",
       "3                     0                 0                 1            0   \n",
       "4                     0                 0                 1            1   \n",
       "7                     0                 0                 1            1   \n",
       "...                 ...               ...               ...          ...   \n",
       "88851                36                 0                 1            1   \n",
       "88852                15                 0                 1            1   \n",
       "88853                44                 0                 1            1   \n",
       "88854                38                 0                 1            1   \n",
       "88855                 8                 0                 1            1   \n",
       "\n",
       "       tipo_solo_1  tipo_pesticida_1  tipo_pesticida_2  tipo_pesticida_3  \\\n",
       "1                0                 1                 0                 0   \n",
       "2                0                 1                 0                 0   \n",
       "3                1                 1                 0                 0   \n",
       "4                0                 1                 0                 0   \n",
       "7                0                 1                 0                 0   \n",
       "...            ...               ...               ...               ...   \n",
       "88851            0                 0                 1                 0   \n",
       "88852            0                 0                 1                 0   \n",
       "88853            0                 0                 1                 0   \n",
       "88854            0                 0                 1                 0   \n",
       "88855            0                 0                 1                 0   \n",
       "\n",
       "       epoca_ano_1  epoca_ano_2  epoca_ano_3  \n",
       "1                0            1            0  \n",
       "2                0            1            0  \n",
       "3                0            1            0  \n",
       "4                0            1            0  \n",
       "7                1            0            0  \n",
       "...            ...          ...          ...  \n",
       "88851            1            0            0  \n",
       "88852            0            1            0  \n",
       "88853            0            0            1  \n",
       "88854            1            0            0  \n",
       "88855            0            1            0  \n",
       "\n",
       "[76885 rows x 14 columns]"
      ]
     },
     "execution_count": 55,
     "metadata": {},
     "output_type": "execute_result"
    }
   ],
   "source": [
    "X"
   ]
  },
  {
   "cell_type": "code",
   "execution_count": 56,
   "metadata": {},
   "outputs": [],
   "source": [
    "X_under, y_under = tl.fit_sample(X, y)"
   ]
  },
  {
   "cell_type": "markdown",
   "metadata": {},
   "source": [
    "## One-hot enconder + Subamostragem"
   ]
  },
  {
   "cell_type": "code",
   "execution_count": 58,
   "metadata": {},
   "outputs": [
    {
     "data": {
      "text/plain": [
       "(0.8672118098270497, 0.8757363050871987, 0.879383457558434)"
      ]
     },
     "execution_count": 58,
     "metadata": {},
     "output_type": "execute_result"
    }
   ],
   "source": [
    "media_naive_b, media_knn, media_lr, modelo_teste = treino_teste(X_under, y_under)\n",
    "media_naive_b, media_knn, media_lr"
   ]
  },
  {
   "cell_type": "code",
   "execution_count": 59,
   "metadata": {},
   "outputs": [
    {
     "name": "stdout",
     "output_type": "stream",
     "text": [
      "            Algoritmos  Porcentagens\n",
      "0          Naive Bayes          86.7\n",
      "1                  KNN          87.6\n",
      "2  Logistic Regression          87.9\n"
     ]
    },
    {
     "data": {
      "image/png": "[encoded data removed]",
      "text/plain": [
       "<Figure size 432x288 with 1 Axes>"
      ]
     },
     "metadata": {
      "needs_background": "light"
     },
     "output_type": "display_data"
    }
   ],
   "source": [
    "gera_grafico(media_naive_b, media_knn, media_lr)"
   ]
  },
  {
   "cell_type": "markdown",
   "metadata": {},
   "source": [
    "## Cross validation + Subamostragem + One-Hot-Encoder"
   ]
  },
  {
   "cell_type": "code",
   "execution_count": 60,
   "metadata": {},
   "outputs": [],
   "source": [
    "from sklearn.model_selection import cross_val_score, KFold"
   ]
  },
  {
   "cell_type": "code",
   "execution_count": 61,
   "metadata": {},
   "outputs": [],
   "source": [
    "def treino_teste_cross(x, y):\n",
    "    resultados_nb_cv = []\n",
    "    resultados_nb_cv_300 = []\n",
    "    resultados_lr_cv = []\n",
    "    resultados_lr_cv_300 = []\n",
    "    resultados_knn_cv = []\n",
    "    resultados_knn_cv_300 = []\n",
    "    for i in range(30):\n",
    "      kfold = KFold(n_splits = 10, shuffle = True, random_state = i)\n",
    "\n",
    "      naive_bayes = GaussianNB()\n",
    "      scores = cross_val_score(naive_bayes, x, y, cv = kfold)\n",
    "      resultados_nb_cv_300.append(scores)\n",
    "      resultados_nb_cv.append(scores.mean())\n",
    "      resultados_nb = np.array(resultados_nb_cv)\n",
    "      media_nb = resultados_nb.mean()\n",
    "\n",
    "      logistica = LogisticRegression()\n",
    "      scores = cross_val_score(logistica, x, y, cv = kfold)\n",
    "      resultados_lr_cv_300.append(scores)\n",
    "      resultados_lr_cv.append(scores.mean())\n",
    "      resultados_lr = np.array(resultados_lr_cv)\n",
    "      media_lr = resultados_lr.mean()\n",
    "\n",
    "      knn = KNeighborsClassifier()\n",
    "      scores = cross_val_score(knn, x, y, cv = kfold)\n",
    "      resultados_knn_cv_300.append(scores)\n",
    "      resultados_knn_cv.append(scores.mean())\n",
    "      resultados_knn = np.array(resultados_knn_cv)\n",
    "      media_knn = resultados_knn.mean()\n",
    "    return media_nb, media_knn, media_lr, logistica"
   ]
  },
  {
   "cell_type": "code",
   "execution_count": 62,
   "metadata": {},
   "outputs": [],
   "source": [
    "media_nb, media_knn, media_lr, logistic_r = treino_teste_cross(X_under, y_under)"
   ]
  },
  {
   "cell_type": "code",
   "execution_count": 63,
   "metadata": {},
   "outputs": [
    {
     "name": "stdout",
     "output_type": "stream",
     "text": [
      "            Algoritmos  Porcentagens\n",
      "0          Naive Bayes          86.7\n",
      "1                  KNN          87.5\n",
      "2  Logistic Regression          87.9\n"
     ]
    },
    {
     "data": {
      "image/png": "[encoded data removed]",
      "text/plain": [
       "<Figure size 432x288 with 1 Axes>"
      ]
     },
     "metadata": {
      "needs_background": "light"
     },
     "output_type": "display_data"
    }
   ],
   "source": [
    "gera_grafico(media_nb, media_knn, media_lr)"
   ]
  }
 ],
 "metadata": {
  "colab": {
   "collapsed_sections": [],
   "name": "analise_colheitas.ipynb",
   "provenance": []
  },
  "kernelspec": {
   "display_name": "Python 3",
   "language": "python",
   "name": "python3"
  },
  "language_info": {
   "codemirror_mode": {
    "name": "ipython",
    "version": 3
   },
   "file_extension": ".py",
   "mimetype": "text/x-python",
   "name": "python",
   "nbconvert_exporter": "python",
   "pygments_lexer": "ipython3",
   "version": "3.7.6"
  }
 },
 "nbformat": 4,
 "nbformat_minor": 1
}
